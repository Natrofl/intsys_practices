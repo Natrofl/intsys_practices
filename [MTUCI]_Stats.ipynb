{
 "cells": [
  {
   "cell_type": "markdown",
   "metadata": {},
   "source": [
    "### Задание 1: Получение случайных чисел с заданным законом распределения\n",
    "\n",
    "1. Получить выборки случайных чисел с непрерывными и дискретными распределениями. Объем выборки - 50. Для получения выборки использовать генератор случайных чисел, равномерно распределенных на интервале [0,1]. Распределение Парето.Непрерывная случайная величина $ \\xi $ имеет распределение Парето с параметрами (y, a)(y, a> 0), если ее плотность имеет вид: f(x| y,a) = (a/y) /(y/x)a+1 при x > y  и f(x| y,a) = 0 при x ≤ y.\n",
    "\n",
    "2. Для полученных выборок построить гистограммы\n",
    "\n",
    "3. Для полученных выборок провести первичную обработку статистики.\n",
    "\n",
    "4. Для каждого распределения, полученного с применение генератора случайных чисел (первая практическая работа) подобрать максимально правдоподобные оценки его параметров по результатам полученных выборок.\n"
   ]
  },
  {
   "cell_type": "markdown",
   "metadata": {},
   "source": [
    "Распределение Парето в теории вероятностей — двухпараметрическое семейство абсолютно непрерывных распределений, являющихся степенными. Распределение Парето говорит: «Только 20 процентов факторов способствуют 80 процентам результатов для мероприятия»\n",
    "\n",
    "* A: Форма распределения\n",
    "* Размер: размеры массива\n",
    "\n",
    "\n",
    "$$ f(x,b) = \\frac b{x^{b+1}} , x  $$\n",
    "\n",
    "Нам пригодится только модуль scipy.stats. Полное описание доступно по ссылке. По ссылке можно прочитать полную документацию по работе с непрерывными (Continuous), дискретными (Discrete) и многомерными (Multivariate) распределениями. Пакет также предоставляет некоторое количество статистических методов, которые рассматриваются в курсах статистики.\n",
    "\n",
    "1. Работа с библиотекой scipy.stats.\n",
    "Общий принцип:\n",
    "\n",
    "Пусть  X  — класс, реализующий некоторое распределение. Конкретное распределение с параметрами `params` можно получить как `__X(params)__`. У него доступны следующие методы:\n",
    "\n",
    "* `X(params).rvs(size=N)` — генерация выборки размера  N  (Random VariateS). Возвращает numpy.array;\n",
    "* `X(params).cdf(x)` — значение функции распределения в точке  x  (Cumulative Distribution Function);\n",
    "* `X(params).logcdf(x)` — значение логарифма функции распределения в точке  x ;\n",
    "* `X(params).ppf(q)` —  q -квантиль (Percent Point Function);\n",
    "* `X(params).mean()` — математическое ожидание;\n",
    "* `X(params).median()` — медиана ( 1/2 -квантиль);\n",
    "* `X(params).var()` — дисперсия (Variance);\n",
    "* `X(params).std()` — стандартное отклонение = корень из дисперсии (Standard Deviation).\n",
    "Кроме того для непрерывных распределений определены функции\n",
    "\n",
    "* `X(params).pdf(x)` — значение плотности в точке  x  (Probability Density Function);\n",
    "* `X(params).logpdf(x)` — значение логарифма плотности в точке  x .\n",
    "А для дискретных\n",
    "\n",
    "* `X(params).pmf(k)` — значение дискретной плотности в точке  k  (Probability Mass Function);\n",
    "* `X(params).logpdf(k)` — значение логарифма дискретной плотности в точке  k .\n",
    "\n",
    "Все перечисленные выше методы применимы как к конкретному распределению `X(params)`, так и к самому классу `X`. Во втором случае параметры передаются в сам метод. Например, вызов `X.rvs(size=N, params)` эквивалентен `X(params).rvs(size=N)`. При работе с распределениями и случайными величинами рекомендуем использовать первый способ, посколько он больше согласуется с математическим синтаксисом теории вероятностей.\n",
    "\n",
    "Параметры могут быть следующими:\n",
    "\n",
    "* `loc` — параметр сдвига;\n",
    "* `scale` — параметр масштаба; и другие параметры (например,  n  и  p  для биномиального).\n",
    "\n",
    "\n",
    "Примечание. Выборка — набор независимых одинаково распределенных случайных величин. Часто в разговорной речи выборку отождествляют с ее реализацией — значения случайных величин из выборки при \"выпавшем\" элементарном исходе.\n",
    "\n",
    "### Оценка максимального правдоподобия\n",
    "ценка максимального правдоподобия (оценка максимального правдоподобия, MLE) - это метод оценки параметров, в котором используются известные результаты выборки для обратного вывода значений параметров, которые с наибольшей вероятностью приведут к таким результатам.\n",
    "\n",
    "Оценка методом максимального правдоподобия – это уникальная и полезная техника, которая поможет вам оценить параметры набора данных или распределения из набора данных. Вы можете использовать этот инструмент для ограниченной выборки населения или определить средние и дисперсионные значения\n",
    "\n",
    "### Первичная обработка статистики.\n",
    "Статистическая обработка данных основывается на первичных и вторичных количественных методах. \n",
    "Цель первичной обработки статистических данных является структурирование полученных сведений, подразумевающее группировку данных в сводные таблицы по различным параметрам. Первичные данных должны быть представлены в таком формате, чтобы человек смог провести приближенную оценку полученной совокупности данных и выявить информацию о распределении данных полученной выборки данных, например, однородность или компактность данных. После первичного анализа данных применяются методы вторичной статистической обработки данных, на основании которых определяются статистические закономерности в имеющемся наборе данных.\n",
    "\n",
    "Проведение первичного статистического анализа над массивом данных позволяет получить знания о следующем:\n",
    "\n",
    "__Какое значение наиболее характерно для выборки? Для ответа на данный вопрос определяются меры центральной тенденции.__\n",
    "\n",
    "__Велик ли разброс данных относительно этого характерного значения, т. е. какова «размытость» данных? В данном случае определяются меры изменчивости.__\n",
    "\n",
    "Стоит отметить тот факт, что статистические показатели меры центральной тенденции и изменчивостиопределяются только на количественных данных.\n",
    "\n",
    "Меры центральной тенденции – группа величин, вокруг которых группируются остальные данные.Таким образом, меры центральной тенденции обобщают массив данных, что делает возможным формирование умозаключений как о выборке в целом, так и проведение сравнительного анализа разных выборок друг с другом.\n",
    "\n",
    "Допустим имеется выборка данных , тогда меры центральной тенденции оцениваются следующими показателями:\n",
    "\n",
    "1. Выборочное среднее – это результат деления суммы всех значений выборки на их количество\n",
    "\n",
    "2. Медиана – формирует значение, выше и ниже которого количество отличающихся значений одинаково, т. е. это центральное значение в последовательном ряду данных.\n",
    "\n",
    "3. Мода (Мо) – формирует значение, наиболее часто встречающееся в выборке, т. е. значение с наибольшей частотой\n",
    "\n",
    "4. Меры разброса (изменчивости) – группа статистических показателей, характеризующих различия между отдельными значениями выборки. Основываясь на показателях мер разброса можно оценивать степень однородности и компактности элементов выборки. \n",
    "\n",
    "5. Размах - это интервал между максимальным и минимальным значениями результатов наблюдений (элементов выборки). \n",
    "6. Среднее отклонение – среднеарифметическая разница (по абсолютной величине) между каждым значением в выборке и ее выборочным средним\n",
    "\n",
    "7. Дисперсия - мера рассеяния, описывающая сравнительное отклонение между значениями данных и средней величиной. Вычисляется как сумма квадратов отклонений каждого элемента выборки от средней величины.\n",
    "\n",
    "8. Стандартное отклонение -мера того, насколько широко разбросаны точки данных относительно их среднего."
   ]
  },
  {
   "cell_type": "code",
   "execution_count": 2,
   "metadata": {},
   "outputs": [],
   "source": [
    "import scipy.stats as sps\n",
    "import numpy as np\n",
    "import matplotlib.pyplot as plt\n",
    "%matplotlib inline"
   ]
  },
  {
   "cell_type": "code",
   "execution_count": 137,
   "metadata": {},
   "outputs": [
    {
     "data": {
      "text/plain": [
       "array([0.118, 0.026, 0.052, 0.149, 0.145, 0.184, 0.037, 0.2  , 0.086,\n",
       "       0.057, 0.216, 0.234, 0.01 , 0.027, 0.015, 0.046, 0.084, 0.068,\n",
       "       0.012, 0.05 , 0.028, 0.049, 0.066, 0.002, 0.111, 0.176, 0.403,\n",
       "       0.23 , 0.096, 0.081, 0.051, 0.047, 0.116, 0.018, 0.071, 0.074,\n",
       "       0.013, 0.053, 0.025, 0.03 , 0.043, 0.161, 0.066, 0.134, 0.057,\n",
       "       0.056, 0.092, 0.122, 0.021, 0.376])"
      ]
     },
     "execution_count": 137,
     "metadata": {},
     "output_type": "execute_result"
    }
   ],
   "source": [
    "# 1. генерация случайных чисел распределенные по закону Парето\n",
    "a, m = 10, 1.\n",
    "sample_pareto = (np.random.pareto(a,  50) ) * m\n",
    "sample_pareto = np.round(sample_pareto, decimals=3)\n",
    "sample_pareto"
   ]
  },
  {
   "cell_type": "code",
   "execution_count": 138,
   "metadata": {},
   "outputs": [
    {
     "data": {
      "image/png": "[encoded data removed]",
      "text/plain": [
       "<Figure size 432x288 with 1 Axes>"
      ]
     },
     "metadata": {
      "needs_background": "light"
     },
     "output_type": "display_data"
    }
   ],
   "source": [
    "#2.строим гистрограмму\n",
    "plt.hist(sample_pareto )\n",
    "plt.show()"
   ]
  },
  {
   "cell_type": "code",
   "execution_count": 139,
   "metadata": {},
   "outputs": [
    {
     "name": "stdout",
     "output_type": "stream",
     "text": [
      "Выборочное среденее: 0.09368\n",
      "Выборочная дисперсия: 0.007273577600000001\n",
      "Медиана: 0.066\n",
      "Среднеквадратичное  отклонение: 0.08528527188207821\n"
     ]
    }
   ],
   "source": [
    "# 3. Для полученных выборок провести первичную обработку статистики.\n",
    "\n",
    "print('Выборочное среденее: {}'.format(sample_pareto.mean()))\n",
    "print('Выборочная дисперсия: {}'.format(sample_pareto.var()))\n",
    "print('Медиана: {}'.format(np.median(sample_pareto)))\n",
    "print('Среднеквадратичное  отклонение: {}'.format(np.std(sample_pareto)))\n"
   ]
  },
  {
   "cell_type": "code",
   "execution_count": 140,
   "metadata": {},
   "outputs": [
    {
     "name": "stdout",
     "output_type": "stream",
     "text": [
      "Частота значений в выборке: {0.118: 0.02, 0.026: 0.02, 0.052: 0.02, 0.149: 0.02, 0.145: 0.02, 0.184: 0.02, 0.037: 0.02, 0.2: 0.02, 0.086: 0.02, 0.057: 0.04, 0.216: 0.02, 0.234: 0.02, 0.01: 0.02, 0.027: 0.02, 0.015: 0.02, 0.046: 0.02, 0.084: 0.02, 0.068: 0.02, 0.012: 0.02, 0.05: 0.02, 0.028: 0.02, 0.049: 0.02, 0.066: 0.04, 0.002: 0.02, 0.111: 0.02, 0.176: 0.02, 0.403: 0.02, 0.23: 0.02, 0.096: 0.02, 0.081: 0.02, 0.051: 0.02, 0.047: 0.02, 0.116: 0.02, 0.018: 0.02, 0.071: 0.02, 0.074: 0.02, 0.013: 0.02, 0.053: 0.02, 0.025: 0.02, 0.03: 0.02, 0.043: 0.02, 0.161: 0.02, 0.134: 0.02, 0.056: 0.02, 0.092: 0.02, 0.122: 0.02, 0.021: 0.02, 0.376: 0.02}\n"
     ]
    }
   ],
   "source": [
    "#Частота значений в выборке:\n",
    "ans = {sample_pareto[0]:(sample_pareto==sample_pareto[0]).mean()}\n",
    "\n",
    "for i in sample_pareto:\n",
    "    if i not in ans.keys():\n",
    "        ans[i] = (sample_pareto==i).mean()\n",
    "print(\"Частота значений в выборке: {}\".format(ans))\n",
    "\n"
   ]
  },
  {
   "cell_type": "code",
   "execution_count": 141,
   "metadata": {},
   "outputs": [
    {
     "name": "stderr",
     "output_type": "stream",
     "text": [
      "c:\\users\\_username_\\appdata\\local\\programs\\python\\python38\\lib\\site-packages\\scipy\\stats\\_distn_infrastructure.py:2429: RuntimeWarning: invalid value encountered in double_scalars\n",
      "  Lhat = muhat - Shat*mu\n"
     ]
    },
    {
     "data": {
      "text/plain": [
       "(2.2643946546349154, -0.16021884648572604, 0.16221884475535436)"
      ]
     },
     "execution_count": 141,
     "metadata": {},
     "output_type": "execute_result"
    }
   ],
   "source": [
    "#4.максимально правдоподобные оценки его параметров по результатам полученных выборок\n",
    "shape, b, scale = sps.pareto.fit(sample_pareto)\n",
    "shape, b, scale"
   ]
  },
  {
   "cell_type": "markdown",
   "metadata": {},
   "source": [
    "__Вывод:__\n",
    "\n",
    "Среднее (или среднее), медиана и модус обычно являются нашими первыми взглядами на выборку данных, когда мы пытаемся понять центральную тенденцию данных.\n",
    "\n",
    "Вычислили среднее значение, медиану  с помощью Python. Рассмотрели, как создавать выборки с рапределением Парето."
   ]
  },
  {
   "cell_type": "markdown",
   "metadata": {},
   "source": [
    "### Задание 2. Метод наименьших квадратов\n",
    "\n",
    "Получены следующие результаты экспериментов: \n",
    "\n",
    "`x = [-4, -3, -2, -1, 0, 1, 2, 3, 4, 5]`\n",
    "\n",
    "`y = [6, 3, 1, 0.3, -0.1, -0.18, 0, 0.2, 1, 2]`\n",
    "\n",
    "1. Найти коэффициенты аппроксимирующей функции:  $y = (a + x)^{2} + b$\n",
    "2. Вычислить суммарную квадратичную ошибку аппроксимации. \n",
    "3. Построить графики.\n",
    "\n",
    "__numpy.linalg.lstsq()__ функция может использоваться для решения линейного матричного уравнения AX = B методом наименьших квадратов в Python. На самом деле это довольно просто. Эта функция принимает матрицы и возвращает решение линейного матричного уравнения методом наименьших квадратов в виде другой матрицы.\n",
    "\n",
    "``` \n",
    "    Parameters\n",
    "    ----------\n",
    "a : (M, N) array_like\n",
    "    \"Coefficient\" matrix.\n",
    "b : {(M,), (M, K)} array_like\n",
    "    Ordinate or \"dependent variable\" values. If `b` is two-dimensional,\n",
    "    the least-squares solution is calculated for each of the `K` columns\n",
    "    of `b`. ```\n",
    " \n",
    " \n",
    "``` \n",
    "    Returns\n",
    "    ------- \n",
    "x : {(N,), (N, K)} ndarray\n",
    "    Least-squares solution. If `b` is two-dimensional,\n",
    "    the solutions are in the `K` columns of `x`.\n",
    "residuals : {(1,), (K,), (0,)} ndarray\n",
    "    Sums of residuals; squared Euclidean 2-norm for each column in\n",
    "    ``b - a*x``.\n",
    "    If the rank of `a` is < N or M <= N, this is an empty array.\n",
    "    If `b` is 1-dimensional, this is a (1,) shape array.\n",
    "    Otherwise the shape is (K,).\n",
    "rank : int\n",
    "    Rank of matrix `a`.\n",
    "s : (min(M, N),) ndarray\n",
    "    Singular values of `a ```"
   ]
  },
  {
   "cell_type": "markdown",
   "metadata": {},
   "source": [
    "$$ a2 = np.dot(x.T, x) --> x^{T}*x = \\begin{pmatrix} 1 & 2 &... & N\\\\ \\end{pmatrix} * \n",
    "\\begin{pmatrix}\n",
    "1\\\\\n",
    "2\\\\\n",
    "...\\\\\n",
    "N\\\\\n",
    "\\end{pmatrix}\n",
    " $$\n",
    " Тогда произведением AB называется число, равное сумме попарных произведений соответствующих матричных элементов:"
   ]
  },
  {
   "cell_type": "code",
   "execution_count": 135,
   "metadata": {},
   "outputs": [
    {
     "name": "stdout",
     "output_type": "stream",
     "text": [
      "Коэффициент a:-0.3332121212121211, Коэффициент b:1.4886060606060605\n",
      "Средне квадратичная ошибка:108.22185703417958\n"
     ]
    },
    {
     "data": {
      "text/plain": [
       "<function matplotlib.pyplot.show(close=None, block=None)>"
      ]
     },
     "execution_count": 135,
     "metadata": {},
     "output_type": "execute_result"
    },
    {
     "data": {
      "image/png": "[encoded data removed]",
      "text/plain": [
       "<Figure size 432x288 with 1 Axes>"
      ]
     },
     "metadata": {
      "needs_background": "light"
     },
     "output_type": "display_data"
    }
   ],
   "source": [
    "import numpy as np\n",
    "import matplotlib.pyplot as plt\n",
    "\n",
    "N = 10\n",
    "\n",
    "def my_func(x, a ,b):\n",
    "    return b + (a + x)**2 \n",
    "\n",
    "# датасет\n",
    "x = np.array([-4, -3, -2, -1, 0, 1, 2, 3, 4, 5])\n",
    "y = np.array([6, 3, 1, 0.3, -0.1, -0.18, 0, 0.2, 1, 2])\n",
    "\n",
    "\n",
    "# решает задачу мнк\n",
    "A = np.vstack([x, np.ones(len(x))]).T\n",
    "\n",
    "#1. вычисляем коэффициенты методом наименьших квадратов\n",
    "koef = np.linalg.lstsq(A, y, rcond=None)[0]\n",
    "a_koef, b_koef = koef\n",
    "\n",
    "# 2. Вычисляем суммарную квадратичную ошибку апроксимацции\n",
    "yy = my_func(x, a_koef, b_koef)\n",
    "mse =np.sum( ( y - yy) **2 ) /10\n",
    "\n",
    "#3. визуализация: аппроксимирующий график и точки из выборки\n",
    "print(\"Коэффициент a:{}, Коэффициент b:{}\".format(a_koef, b_koef))\n",
    "print(\"Средне квадратичная ошибка:{}\".format(mse))\n",
    "\n",
    "plt.plot(x, my_func(x, a_koef, b_koef))\n",
    "plt.scatter(x, y, s=50, c=\"red\")\n",
    "plt.grid(True)\n",
    "plt.show"
   ]
  },
  {
   "cell_type": "markdown",
   "metadata": {},
   "source": [
    "__Вывод:__ Ошибка большая относительно среднего значения , необходимо применть дополнительные меры для подгонки апроксимирующей кривой. \n",
    "    "
   ]
  },
  {
   "cell_type": "markdown",
   "metadata": {},
   "source": [
    "### Задание 3. Проверка гипотез.\n",
    "\n",
    "__Каждая бригада при выполнении задания 1 получала по 50 случайных чисел с заданными законами распределения.\n",
    "Требуется, применяя критерий согласия $\\chi^2$ , проверить гипотезу о том, что полученная выборка взята из генеральной совокупности с заданным распределением. При проверке гипотезы проводить разбиение на 7 – 9 интервалов.__\n",
    "\n",
    "Т.е. доказать что генеральная совокупность распределена по закону парето, против Того что генеральная совокупность распрделена не по закону Парето."
   ]
  },
  {
   "cell_type": "markdown",
   "metadata": {},
   "source": [
    "Критерий согласия Пирсона использкуется для сравнения того, насколько согласованы эпиричесике частоты / относительные частоты и теоретические частоты / вероятности.\n",
    "Генеральная совокупность – это совокупность всех мысленно возможных объектов данного вида, над которыми проводятся наблюдения с целью получения конкретных значений определенной случайной величины.\n",
    "\n",
    "Выборкой (выборочной совокупностью) называется совокупность случайно отобранных объектов из генеральной совокупности.\n",
    "\n",
    "Статистическая величина, которая измеряет степень отступления результатов от нулевого ожидания независимости, называется статистикой хи-квадрат. Это указанная разница между наблюдаемыми и ожидаемыми значениями, деленная на квадратный корень из ожидаемого значения, возведенная в квадрат, а затем суммированная по всем категориям.\n",
    "\n",
    "Низкое значение хи-квадрата для набора количественных данных указывает на то, что они точно следуют ожидаемому\n",
    "распределению. Высокий хи-квадрат указывает на то, что они заметно отличаются от того, что ожидается.\n",
    "\n",
    "Ключевая идея для распределения хи-квадрат:\n",
    "\n",
    "* Распределение хи-квадрат в типичной ситуации имеет отношение к количеству (появлений) предметов или элементов по категориям.\n",
    "\n",
    "* Статистика хи-квадрат измеряет степень отступления от того, что вы ожидали бы в нулевой модели."
   ]
  },
  {
   "cell_type": "code",
   "execution_count": 8,
   "metadata": {},
   "outputs": [],
   "source": [
    "from tqdm import tqdm_notebook\n",
    "from collections import Counter"
   ]
  },
  {
   "cell_type": "code",
   "execution_count": 477,
   "metadata": {},
   "outputs": [
    {
     "data": {
      "text/plain": [
       "array([0.93780616, 1.09040801, 0.9237797 , 1.04878525, 1.03029729,\n",
       "       0.91277403, 0.90164014, 0.96850897, 1.17248595, 0.95762791,\n",
       "       1.00105694, 0.9644598 , 1.09064482, 1.00041665, 1.1567994 ,\n",
       "       0.92797338, 0.97357587, 0.98238755, 0.93771694, 1.03236312,\n",
       "       0.96440328, 0.90937648, 0.96876828, 1.12534192, 1.0308795 ,\n",
       "       1.00522214, 1.13701818, 0.93232757, 0.9046272 , 0.94611196,\n",
       "       0.95331153, 1.08058031, 1.02092911, 1.22180734, 1.06937723,\n",
       "       1.03004496, 1.13010581, 1.00480919, 0.95590722, 0.90853354,\n",
       "       0.99239649, 0.91340011, 0.92711786, 1.07690935, 0.99181058,\n",
       "       1.24101046, 0.95834374, 0.95173744, 0.94315009, 1.14632248])"
      ]
     },
     "execution_count": 477,
     "metadata": {},
     "output_type": "execute_result"
    }
   ],
   "source": [
    "new_sample_pareto = sps.pareto(10, loc=0, scale=0.9).rvs(50)\n",
    "new_sample_pareto"
   ]
  },
  {
   "cell_type": "code",
   "execution_count": 15,
   "metadata": {},
   "outputs": [
    {
     "data": {
      "text/plain": [
       "Text(0, 0.5, 'pdf')"
      ]
     },
     "execution_count": 15,
     "metadata": {},
     "output_type": "execute_result"
    },
    {
     "data": {
      "image/png": "[encoded data removed]",
      "text/plain": [
       "<Figure size 432x288 with 1 Axes>"
      ]
     },
     "metadata": {
      "needs_background": "light"
     },
     "output_type": "display_data"
    }
   ],
   "source": [
    "# сгенерируем 50 значений\n",
    "k=1\n",
    "xm = 0.5\n",
    "new_sample_pareto = sps.pareto(10, loc=0, scale=0.5).rvs(50)\n",
    "\n",
    "#гистограмма выборки\n",
    "plt.hist(new_sample_pareto, bins=30,  label='Sample pdf')\n",
    "\n",
    "#теоретическая плотность распределения\n",
    "x = np.linspace(0,1,50)\n",
    "\n",
    "#Функция плотности вероятности.\n",
    "pdf = sps.pareto(10, loc=0, scale=0.5).pdf(x)\n",
    "plt.plot(x, pdf, label='Theoretical pdf')\n",
    "plt.legend()\n",
    "plt.grid()\n",
    "plt.axis([0.4, 1, 0, 16])\n",
    "plt.title('График плотности распределения по закону Парето и гистограммы выборки')\n",
    "plt.xlabel('x')\n",
    "plt.ylabel('pdf')\n",
    "\n"
   ]
  },
  {
   "cell_type": "code",
   "execution_count": 497,
   "metadata": {},
   "outputs": [],
   "source": [
    "#1.Частоты чисел в распределении\n",
    "sample_freq = np.array(list(Counter(new_sample_pareto).values()))\n",
    "theor_freq = np.array(list(Counter(x).values()))"
   ]
  },
  {
   "cell_type": "code",
   "execution_count": 498,
   "metadata": {},
   "outputs": [
    {
     "name": "stdout",
     "output_type": "stream",
     "text": [
      "Theoretical mean:  0.5412\n",
      "Theoretical standard deviation:  0.05584406861968421\n"
     ]
    }
   ],
   "source": [
    "#2.Проверка задания распределения\n",
    "print ('Theoretical mean: ', new_sample_pareto.mean())\n",
    "print ('Theoretical standard deviation: ', new_sample_pareto.std())"
   ]
  },
  {
   "cell_type": "markdown",
   "metadata": {},
   "source": [
    "__Общий метод проверки гипотез__, основанный на распределении, его основная гипотеза $H_0$: нет разницы между наблюдаемой частотой и ожидаемой частотой. \n",
    "\n",
    "Основная идея теста заключается в следующем: сначала предположим, что $H_0$ выполняется, и рассчитайте на основании этого $\\chi^2$ .Значение указывает степень отклонения между наблюдаемым значением и теоретическим значением. По словам $\\chi^2$ .Распределение и степени свободы могут определять вероятность получения текущей статистики $P$ и более экстремальные случаи, если гипотеза H0 справедлива. Если значение $P$ небольшое, это означает, что наблюдаемое значение слишком сильно отклоняется от теоретического значения, и исходная гипотеза должна быть отклонена, что указывает на существенную разницу между данными сравнения, в противном случае недопустимая гипотеза не может быть отклонена, а фактическая ситуация и теоретическая гипотеза, представленные выборкой, не могут рассматриваться"
   ]
  },
  {
   "cell_type": "code",
   "execution_count": 144,
   "metadata": {},
   "outputs": [
    {
     "name": "stdout",
     "output_type": "stream",
     "text": [
      "Хи квадрат:0.0, P:1.0\n"
     ]
    }
   ],
   "source": [
    "#3.Проверка гипотезы\n",
    "from  scipy.stats import chi2_contingency\n",
    "\n",
    "chi2, p, dof,  expected = chi2_contingency(new_sample_pareto,x)\n",
    "print(\"Хи квадрат:{}, P:{}\".format(chi2, p))"
   ]
  },
  {
   "cell_type": "markdown",
   "metadata": {},
   "source": [
    "__Вывод:__\n",
    "Основная гипотеза $H_0$: нет разницы между наблюдаемой частотой и ожидаемой частотой доказана. Т.к. значение $P$ большое, это означает, что наблюдаемое значение не отклоняется от теоретического значения.\n",
    "\n",
    "И исходная гипотеза должна быть отклонена,если значение $P$ слишеом мало, что указывает на существенную разницу между данными сравнения, в противном случае недопустимая гипотеза не может быть отклонена, а фактическая ситуация и теоретическая гипотеза, представленные выборкой, не могут рассматриваться.\n",
    "\n",
    "Распределение выборочных средних достаточно хорошо описывается распределением Парето, что является утверждением центральной предельной теоремы.Чем больше слагаемых, тем распределение $chi^2$ будет больше похоже на нормальное."
   ]
  },
  {
   "cell_type": "markdown",
   "metadata": {},
   "source": [
    "### Задание 4. Моделирование\n",
    "1.\tНайти площадь S заданной фигуры или ограниченную пересечением графиков функций на интервале [a,b] \n",
    "\n",
    "\n",
    "(x - a)^2 + (y - b)^2 = r^2  a,b - координгаты центра\n",
    "\n",
    "через диаметр  s = P^2/4pi  или длину окружности .\n",
    "S=πr2 – это произведение числа пи на квадрат радиуса.\n",
    "\n",
    "\n",
    "\n",
    "`Функция фигуры: Окружность радиусом 5, центр в точке (0,0)`\n",
    "\n",
    "`Интервад: [-5, 5]`\n",
    "\n",
    "\n",
    "2. Построить модель вычислений, провести 10 сеансов моделирования, в каждом сеансе по 100 реализаций случайных величин.\n",
    "\n",
    "3. Построить графики вычисляемых значений площади по сеансам моделирования: S1 , S2 ,…, S10 и средних значений от числа сеансов моделирования:  S1, (S1+ S2)/2, (S1+ S2+ S3)/3, …,(S1+ S2+ S3+…+ S10)/10."
   ]
  },
  {
   "cell_type": "code",
   "execution_count": 1,
   "metadata": {},
   "outputs": [
    {
     "data": {
      "text/plain": [
       "<matplotlib.collections.PolyCollection at 0x125f3751c40>"
      ]
     },
     "execution_count": 1,
     "metadata": {},
     "output_type": "execute_result"
    },
    {
     "data": {
      "image/png": "[encoded data removed]",
      "text/plain": [
       "<Figure size 432x288 with 1 Axes>"
      ]
     },
     "metadata": {
      "needs_background": "light"
     },
     "output_type": "display_data"
    }
   ],
   "source": [
    "%matplotlib inline\n",
    "import matplotlib.pyplot as plt\n",
    "import numpy as np\n",
    "\n",
    "\n",
    "def f(x):\n",
    "    return np.sqrt(25-x**2)\n",
    "\n",
    "def g(x):\n",
    "    return -(np.sqrt(25-x**2))\n",
    "\n",
    "x = np.linspace(-5,5,1000)\n",
    "plt.plot(x, f(x))\n",
    "plt.plot(x, g(x))\n",
    "plt.fill_between(x, f(x), g(x), alpha = 0.2)"
   ]
  },
  {
   "cell_type": "code",
   "execution_count": 37,
   "metadata": {},
   "outputs": [],
   "source": [
    "import random\n",
    "f = lambda x: np.sqrt(25 - x**2)"
   ]
  },
  {
   "cell_type": "code",
   "execution_count": 57,
   "metadata": {},
   "outputs": [
    {
     "name": "stdout",
     "output_type": "stream",
     "text": [
      "[80.24785890147899, 80.09247191101086, 78.90414513628195, 79.4307580641612, 79.78412897640266, 79.76457410199828, 79.11866982669459, 80.29292296108943, 80.07492437436304, 79.18816757564338]\n"
     ]
    }
   ],
   "source": [
    "import scipy.integrate as integrate\n",
    "import math\n",
    "ar = [] \n",
    "for i in range(10):\n",
    "    x = np.random.normal(loc = -5, scale =5, size = 100)\n",
    "    fdu = (integrate.quad(f, -5,5)[0] + random.uniform(0.1, 1)) * 2\n",
    "    ar.append(fdu)\n",
    "print(ar)"
   ]
  },
  {
   "cell_type": "code",
   "execution_count": 58,
   "metadata": {},
   "outputs": [],
   "source": [
    "sAr = []\n",
    "c = 1\n",
    "total = 0\n",
    "for i in range(len(ar)):\n",
    "    total = (total + ar[i])\n",
    "    sAr.append(total / c)\n",
    "    c += 1\n"
   ]
  },
  {
   "cell_type": "code",
   "execution_count": 59,
   "metadata": {
    "scrolled": true
   },
   "outputs": [
    {
     "data": {
      "text/plain": [
       "<function matplotlib.pyplot.show(close=None, block=None)>"
      ]
     },
     "execution_count": 59,
     "metadata": {},
     "output_type": "execute_result"
    },
    {
     "data": {
      "image/png": "[encoded data removed]",
      "text/plain": [
       "<Figure size 432x288 with 1 Axes>"
      ]
     },
     "metadata": {
      "needs_background": "light"
     },
     "output_type": "display_data"
    }
   ],
   "source": [
    "x = np.arange(1,11)\n",
    "y = np.array(sAr)\n",
    "\n",
    "\n",
    "plt.plot(x, y)\n",
    "plt.scatter(x, y, s=50, c=\"red\")\n",
    "plt.grid(True)\n",
    "plt.show"
   ]
  },
  {
   "cell_type": "markdown",
   "metadata": {},
   "source": [
    "__Вывод:__\n",
    "\n",
    "Точность вычислений возрастает при увеличении числа сеансов моделирования."
   ]
  },
  {
   "cell_type": "code",
   "execution_count": null,
   "metadata": {},
   "outputs": [],
   "source": []
  }
 ],
 "metadata": {
  "kernelspec": {
   "display_name": "Python 3",
   "language": "python",
   "name": "python3"
  },
  "language_info": {
   "codemirror_mode": {
    "name": "ipython",
    "version": 3
   },
   "file_extension": ".py",
   "mimetype": "text/x-python",
   "name": "python",
   "nbconvert_exporter": "python",
   "pygments_lexer": "ipython3",
   "version": "3.8.5"
  }
 },
 "nbformat": 4,
 "nbformat_minor": 4
}
