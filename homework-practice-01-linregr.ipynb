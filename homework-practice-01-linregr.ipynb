{
 "cells": [
  {
   "cell_type": "markdown",
   "metadata": {},
   "source": [
    "\n",
    "\n",
    "### О задании\n",
    "\n",
    "Практическое задание 1 посвящено изучению основных библиотек для анализа данных, а также линейных моделей и методов их обучения. Вы научитесь:\n",
    " * применять библиотеки NumPy и Pandas для осуществления желаемых преобразований;\n",
    " * подготавливать данные для обучения линейных моделей;\n",
    " * обучать линейную, Lasso и Ridge-регрессии при помощи модуля scikit-learn;\n",
    " * реализовывать обычный и стохастический градиентные спуски;\n",
    " * обучать линейную регрессию для произвольного функционала качества.\n",
    " \n"
   ]
  },
  {
   "cell_type": "markdown",
   "metadata": {},
   "source": [
    "## Библиотеки для анализа данных\n",
    "\n",
    "### NumPy\n",
    "\n",
    "Во всех заданиях данного раздела запрещено использовать циклы  и list comprehensions. Под вектором и матрицей в данных заданиях понимается одномерный и двумерный numpy.array соответственно."
   ]
  },
  {
   "cell_type": "code",
   "execution_count": 2,
   "metadata": {},
   "outputs": [],
   "source": [
    "import numpy as np"
   ]
  },
  {
   "cell_type": "markdown",
   "metadata": {},
   "source": [
    "**1.** Реализуйте функцию, возвращающую максимальный элемент в векторе x среди элементов, перед которыми стоит нулевой. Для x = np.array([6, 2, 0, 3, 0, 0, 5, 7, 0]) ответом является 5. Если нулевых элементов нет, функция должна возвращать None.\n"
   ]
  },
  {
   "cell_type": "code",
   "execution_count": 3,
   "metadata": {},
   "outputs": [
    {
     "name": "stdout",
     "output_type": "stream",
     "text": [
      "5\n"
     ]
    }
   ],
   "source": [
    "x = np.array([6, 2, 0, 3, 0, 0, 5, 7, 0])\n",
    "def max_element(arr):\n",
    "   y = arr==0\n",
    "   print(arr[1:][y[:-1]].max())\n",
    "            \n",
    "max_element(x)"
   ]
  },
  {
   "cell_type": "markdown",
   "metadata": {},
   "source": [
    "**2. ** Реализуйте функцию, принимающую на вход матрицу и некоторое число и возвращающую ближайший к числу элемент матрицы. Например: для X = np.arange(0,10).reshape((2, 5)) и v = 3.6 ответом будет 4."
   ]
  },
  {
   "cell_type": "code",
   "execution_count": 4,
   "metadata": {},
   "outputs": [
    {
     "data": {
      "text/plain": [
       "4"
      ]
     },
     "execution_count": 4,
     "metadata": {},
     "output_type": "execute_result"
    }
   ],
   "source": [
    "x= np.arange(0,10).reshape((2, 5)) \n",
    "v=3.6\n",
    "def nearest_value(X, v):\n",
    "    y = np.abs(X - v)\n",
    "    return X[np.where(y == np.min(y))][0]\n",
    "\n",
    "nearest_value(x, v )"
   ]
  },
  {
   "cell_type": "markdown",
   "metadata": {},
   "source": [
    "**3. ** Реализуйте функцию scale(X), которая принимает на вход матрицу и масштабирует каждый ее столбец (вычитает выборочное среднее и делит на стандартное отклонение). Убедитесь, что в функции не будет происходить деления на ноль. Протестируйте на случайной матрице (для её генерации можно использовать, например, функцию [numpy.random.randint](http://docs.scipy.org/doc/numpy/reference/generated/numpy.random.randint.html))."
   ]
  },
  {
   "cell_type": "code",
   "execution_count": 5,
   "metadata": {},
   "outputs": [
    {
     "name": "stdout",
     "output_type": "stream",
     "text": [
      "[[ 0.98787834 -1.28654844  0.30261377  0.34528454]\n",
      " [ 0.10976426  0.97551475 -1.51306883  1.33181178]\n",
      " [-1.6464639  -0.66448106 -0.06052275 -1.43046451]\n",
      " [ 0.5488213   0.97551475  1.27097782 -0.24663181]]\n"
     ]
    }
   ],
   "source": [
    "X = np.random.randint(0, 50, size = (4, 4))   \n",
    "def scale(X):\n",
    "    means, stds = np.mean(X, axis=0), np.std(X, axis=0)\n",
    "    print((X - means)/stds)\n",
    "        \n",
    "scale(X)\n"
   ]
  },
  {
   "cell_type": "markdown",
   "metadata": {},
   "source": [
    "**4.** Реализуйте функцию, которая для заданной матрицы находит:\n",
    " - определитель\n",
    " - след\n",
    " - наименьший и наибольший элементы\n",
    " - норму Фробениуса\n",
    " - собственные числа\n",
    " - обратную матрицу\n",
    "\n",
    "Для тестирования сгенерируйте матрицу с элементами из нормального распределения $\\mathcal{N}$(10,1)"
   ]
  },
  {
   "cell_type": "code",
   "execution_count": 6,
   "metadata": {},
   "outputs": [
    {
     "name": "stdout",
     "output_type": "stream",
     "text": [
      "Определитель:  -3.519539676308668\n",
      "След:  31.046199089789557\n",
      "Наименьший элемент:  9.554113045795143\n",
      "Наибольший элемент:  11.67236563486263\n",
      "Норма Фробениуса:  31.476630724784382\n",
      "Собственные числа:  [31.46431518  0.18535722 -0.60347332]\n",
      "Обратная матрица:  [[ 3.04424322 -0.78553037 -2.03373572]\n",
      " [ 2.36829999 -1.70052715 -0.57181834]\n",
      " [-4.96616378  2.33533365  2.42597996]]\n"
     ]
    }
   ],
   "source": [
    "from numpy import linalg as la\n",
    "X = np.array([np.random.normal(10, 1, 3) for i in range(3)])\n",
    "def get_stats(X):\n",
    "    print(\"Определитель: \", np.linalg.det(X))\n",
    "    print(\"След: \", np.trace(X))\n",
    "    print('Наименьший элемент: ', np.amin(X))\n",
    "    print('Наибольший элемент: ', np.amax(X))\n",
    "    print(\"Норма Фробениуса: \", np.linalg.norm(X))\n",
    "    print(\"Собственные числа: \", np.linalg.eig(X)[0])\n",
    "    print(\"Обратная матрица: \", np.linalg.inv(X))\n",
    "       \n",
    "get_stats(X)"
   ]
  },
  {
   "cell_type": "markdown",
   "metadata": {},
   "source": [
    "**5.** Повторите 100 раз следующий эксперимент: сгенерируйте две матрицы размера 10×10 из стандартного нормального распределения, перемножьте их (как матрицы) и найдите максимальный элемент. Какое среднее значение по экспериментам у максимальных элементов? 95-процентная квантиль?"
   ]
  },
  {
   "cell_type": "code",
   "execution_count": 7,
   "metadata": {},
   "outputs": [
    {
     "name": "stdout",
     "output_type": "stream",
     "text": [
      "Среднее:  7.969809260675435\n",
      "95% квантиль:  10.872161342699236\n"
     ]
    }
   ],
   "source": [
    "y = np.empty(100)\n",
    "for exp_num in range(100):\n",
    "    x1 = np.random.normal(0, 1, (10, 10))\n",
    "    x2 = np.random.normal(0, 1, (10, 10))\n",
    "    y[exp_num] = np.max(x1.dot(x2))\n",
    "    \n",
    "print(\"Среднее: \", np.average(y))\n",
    "print(\"95% квантиль: \", np.percentile(y, 95))"
   ]
  },
  {
   "cell_type": "markdown",
   "metadata": {},
   "source": [
    "### Pandas\n",
    "\n",
    "![](https://metrouk2.files.wordpress.com/2015/10/panda.jpg)\n",
    "\n",
    "#### Ответьте на вопросы о данных по авиарейсам в США за январь-апрель 2008 года.\n",
    "\n",
    "[Данные](https://www.dropbox.com/s/dvfitn93obn0rql/2008.csv?dl=0) и их [описание](http://stat-computing.org/dataexpo/2009/the-data.html)"
   ]
  },
  {
   "cell_type": "code",
   "execution_count": 8,
   "metadata": {},
   "outputs": [
    {
     "data": {
      "text/html": [
       "<div>\n",
       "<style scoped>\n",
       "    .dataframe tbody tr th:only-of-type {\n",
       "        vertical-align: middle;\n",
       "    }\n",
       "\n",
       "    .dataframe tbody tr th {\n",
       "        vertical-align: top;\n",
       "    }\n",
       "\n",
       "    .dataframe thead th {\n",
       "        text-align: right;\n",
       "    }\n",
       "</style>\n",
       "<table border=\"1\" class=\"dataframe\">\n",
       "  <thead>\n",
       "    <tr style=\"text-align: right;\">\n",
       "      <th></th>\n",
       "      <th>Year</th>\n",
       "      <th>Month</th>\n",
       "      <th>DayofMonth</th>\n",
       "      <th>DayOfWeek</th>\n",
       "      <th>DepTime</th>\n",
       "      <th>CRSDepTime</th>\n",
       "      <th>ArrTime</th>\n",
       "      <th>CRSArrTime</th>\n",
       "      <th>UniqueCarrier</th>\n",
       "      <th>FlightNum</th>\n",
       "      <th>...</th>\n",
       "      <th>TaxiIn</th>\n",
       "      <th>TaxiOut</th>\n",
       "      <th>Cancelled</th>\n",
       "      <th>CancellationCode</th>\n",
       "      <th>Diverted</th>\n",
       "      <th>CarrierDelay</th>\n",
       "      <th>WeatherDelay</th>\n",
       "      <th>NASDelay</th>\n",
       "      <th>SecurityDelay</th>\n",
       "      <th>LateAircraftDelay</th>\n",
       "    </tr>\n",
       "  </thead>\n",
       "  <tbody>\n",
       "    <tr>\n",
       "      <th>0</th>\n",
       "      <td>2008</td>\n",
       "      <td>6</td>\n",
       "      <td>18</td>\n",
       "      <td>3</td>\n",
       "      <td>2111.0</td>\n",
       "      <td>2055</td>\n",
       "      <td>2308.0</td>\n",
       "      <td>2300</td>\n",
       "      <td>WN</td>\n",
       "      <td>242</td>\n",
       "      <td>...</td>\n",
       "      <td>3.0</td>\n",
       "      <td>8.0</td>\n",
       "      <td>0</td>\n",
       "      <td>NaN</td>\n",
       "      <td>0</td>\n",
       "      <td>NaN</td>\n",
       "      <td>NaN</td>\n",
       "      <td>NaN</td>\n",
       "      <td>NaN</td>\n",
       "      <td>NaN</td>\n",
       "    </tr>\n",
       "    <tr>\n",
       "      <th>1</th>\n",
       "      <td>2008</td>\n",
       "      <td>6</td>\n",
       "      <td>4</td>\n",
       "      <td>3</td>\n",
       "      <td>1426.0</td>\n",
       "      <td>1410</td>\n",
       "      <td>1730.0</td>\n",
       "      <td>1728</td>\n",
       "      <td>XE</td>\n",
       "      <td>2380</td>\n",
       "      <td>...</td>\n",
       "      <td>4.0</td>\n",
       "      <td>12.0</td>\n",
       "      <td>0</td>\n",
       "      <td>NaN</td>\n",
       "      <td>0</td>\n",
       "      <td>NaN</td>\n",
       "      <td>NaN</td>\n",
       "      <td>NaN</td>\n",
       "      <td>NaN</td>\n",
       "      <td>NaN</td>\n",
       "    </tr>\n",
       "    <tr>\n",
       "      <th>2</th>\n",
       "      <td>2008</td>\n",
       "      <td>8</td>\n",
       "      <td>3</td>\n",
       "      <td>7</td>\n",
       "      <td>1143.0</td>\n",
       "      <td>1145</td>\n",
       "      <td>1501.0</td>\n",
       "      <td>1520</td>\n",
       "      <td>WN</td>\n",
       "      <td>1769</td>\n",
       "      <td>...</td>\n",
       "      <td>4.0</td>\n",
       "      <td>9.0</td>\n",
       "      <td>0</td>\n",
       "      <td>NaN</td>\n",
       "      <td>0</td>\n",
       "      <td>NaN</td>\n",
       "      <td>NaN</td>\n",
       "      <td>NaN</td>\n",
       "      <td>NaN</td>\n",
       "      <td>NaN</td>\n",
       "    </tr>\n",
       "    <tr>\n",
       "      <th>3</th>\n",
       "      <td>2008</td>\n",
       "      <td>1</td>\n",
       "      <td>23</td>\n",
       "      <td>3</td>\n",
       "      <td>1141.0</td>\n",
       "      <td>1144</td>\n",
       "      <td>1323.0</td>\n",
       "      <td>1335</td>\n",
       "      <td>OO</td>\n",
       "      <td>3802</td>\n",
       "      <td>...</td>\n",
       "      <td>4.0</td>\n",
       "      <td>19.0</td>\n",
       "      <td>0</td>\n",
       "      <td>NaN</td>\n",
       "      <td>0</td>\n",
       "      <td>NaN</td>\n",
       "      <td>NaN</td>\n",
       "      <td>NaN</td>\n",
       "      <td>NaN</td>\n",
       "      <td>NaN</td>\n",
       "    </tr>\n",
       "    <tr>\n",
       "      <th>4</th>\n",
       "      <td>2008</td>\n",
       "      <td>5</td>\n",
       "      <td>4</td>\n",
       "      <td>7</td>\n",
       "      <td>815.0</td>\n",
       "      <td>820</td>\n",
       "      <td>1243.0</td>\n",
       "      <td>1300</td>\n",
       "      <td>WN</td>\n",
       "      <td>399</td>\n",
       "      <td>...</td>\n",
       "      <td>4.0</td>\n",
       "      <td>8.0</td>\n",
       "      <td>0</td>\n",
       "      <td>NaN</td>\n",
       "      <td>0</td>\n",
       "      <td>NaN</td>\n",
       "      <td>NaN</td>\n",
       "      <td>NaN</td>\n",
       "      <td>NaN</td>\n",
       "      <td>NaN</td>\n",
       "    </tr>\n",
       "  </tbody>\n",
       "</table>\n",
       "<p>5 rows × 29 columns</p>\n",
       "</div>"
      ],
      "text/plain": [
       "   Year  Month  DayofMonth  DayOfWeek  DepTime  CRSDepTime  ArrTime  \\\n",
       "0  2008      6          18          3   2111.0        2055   2308.0   \n",
       "1  2008      6           4          3   1426.0        1410   1730.0   \n",
       "2  2008      8           3          7   1143.0        1145   1501.0   \n",
       "3  2008      1          23          3   1141.0        1144   1323.0   \n",
       "4  2008      5           4          7    815.0         820   1243.0   \n",
       "\n",
       "   CRSArrTime UniqueCarrier  FlightNum  ... TaxiIn  TaxiOut  Cancelled  \\\n",
       "0        2300            WN        242  ...    3.0      8.0          0   \n",
       "1        1728            XE       2380  ...    4.0     12.0          0   \n",
       "2        1520            WN       1769  ...    4.0      9.0          0   \n",
       "3        1335            OO       3802  ...    4.0     19.0          0   \n",
       "4        1300            WN        399  ...    4.0      8.0          0   \n",
       "\n",
       "   CancellationCode  Diverted  CarrierDelay WeatherDelay NASDelay  \\\n",
       "0               NaN         0           NaN          NaN      NaN   \n",
       "1               NaN         0           NaN          NaN      NaN   \n",
       "2               NaN         0           NaN          NaN      NaN   \n",
       "3               NaN         0           NaN          NaN      NaN   \n",
       "4               NaN         0           NaN          NaN      NaN   \n",
       "\n",
       "   SecurityDelay  LateAircraftDelay  \n",
       "0            NaN                NaN  \n",
       "1            NaN                NaN  \n",
       "2            NaN                NaN  \n",
       "3            NaN                NaN  \n",
       "4            NaN                NaN  \n",
       "\n",
       "[5 rows x 29 columns]"
      ]
     },
     "metadata": {},
     "output_type": "display_data"
    }
   ],
   "source": [
    "import pandas as pd\n",
    "%matplotlib inline\n",
    "data = pd.read_csv(\"2008.csv\", error_bad_lines=False)\n",
    "display(data.head())"
   ]
  },
  {
   "cell_type": "code",
   "execution_count": 9,
   "metadata": {},
   "outputs": [
    {
     "name": "stdout",
     "output_type": "stream",
     "text": [
      "<class 'pandas.core.frame.DataFrame'>\n",
      "RangeIndex: 70000 entries, 0 to 69999\n",
      "Data columns (total 29 columns):\n",
      " #   Column             Non-Null Count  Dtype  \n",
      "---  ------             --------------  -----  \n",
      " 0   Year               70000 non-null  int64  \n",
      " 1   Month              70000 non-null  int64  \n",
      " 2   DayofMonth         70000 non-null  int64  \n",
      " 3   DayOfWeek          70000 non-null  int64  \n",
      " 4   DepTime            68601 non-null  float64\n",
      " 5   CRSDepTime         70000 non-null  int64  \n",
      " 6   ArrTime            68444 non-null  float64\n",
      " 7   CRSArrTime         70000 non-null  int64  \n",
      " 8   UniqueCarrier      70000 non-null  object \n",
      " 9   FlightNum          70000 non-null  int64  \n",
      " 10  TailNum            69180 non-null  object \n",
      " 11  ActualElapsedTime  68418 non-null  float64\n",
      " 12  CRSElapsedTime     69991 non-null  float64\n",
      " 13  AirTime            68418 non-null  float64\n",
      " 14  ArrDelay           68418 non-null  float64\n",
      " 15  DepDelay           68601 non-null  float64\n",
      " 16  Origin             70000 non-null  object \n",
      " 17  Dest               70000 non-null  object \n",
      " 18  Distance           70000 non-null  int64  \n",
      " 19  TaxiIn             68444 non-null  float64\n",
      " 20  TaxiOut            68594 non-null  float64\n",
      " 21  Cancelled          70000 non-null  int64  \n",
      " 22  CancellationCode   1411 non-null   object \n",
      " 23  Diverted           70000 non-null  int64  \n",
      " 24  CarrierDelay       15253 non-null  float64\n",
      " 25  WeatherDelay       15253 non-null  float64\n",
      " 26  NASDelay           15253 non-null  float64\n",
      " 27  SecurityDelay      15253 non-null  float64\n",
      " 28  LateAircraftDelay  15253 non-null  float64\n",
      "dtypes: float64(14), int64(10), object(5)\n",
      "memory usage: 15.5+ MB\n"
     ]
    },
    {
     "data": {
      "text/plain": [
       "None"
      ]
     },
     "metadata": {},
     "output_type": "display_data"
    }
   ],
   "source": [
    "display(data.info())"
   ]
  },
  {
   "cell_type": "markdown",
   "metadata": {},
   "source": [
    "**6.** Какая из причин отмены рейса (`CancellationCode`) была самой частой? (расшифровки кодов можно найти в описании данных)"
   ]
  },
  {
   "cell_type": "code",
   "execution_count": 10,
   "metadata": {},
   "outputs": [
    {
     "data": {
      "text/plain": [
       "A    563\n",
       "B    549\n",
       "C    299\n",
       "Name: CancellationCode, dtype: int64"
      ]
     },
     "execution_count": 10,
     "metadata": {},
     "output_type": "execute_result"
    }
   ],
   "source": [
    "data_pp = data[\"CancellationCode\"]\n",
    "data_pp.value_counts()\n",
    "#A-carrier"
   ]
  },
  {
   "cell_type": "markdown",
   "metadata": {},
   "source": [
    "Отмена по вине перезвозчика"
   ]
  },
  {
   "cell_type": "markdown",
   "metadata": {},
   "source": [
    "**7.** Найдите среднее, минимальное и максимальное расстояние, пройденное самолетом."
   ]
  },
  {
   "cell_type": "code",
   "execution_count": 11,
   "metadata": {},
   "outputs": [
    {
     "name": "stdout",
     "output_type": "stream",
     "text": [
      "Среднее:  724.5082571428571\n",
      "Мин:  31\n",
      "Макс:  4962\n"
     ]
    }
   ],
   "source": [
    "data_pp = data[\"Distance\"]\n",
    "print(\"Среднее: \", data_pp.mean())\n",
    "print(\"Мин: \", data_pp.min())\n",
    "print(\"Макс: \", data_pp.max())"
   ]
  },
  {
   "cell_type": "markdown",
   "metadata": {},
   "source": [
    "**8.** Не выглядит ли подозрительным минимальное пройденное расстояние? В какие дни и на каких рейсах оно было? Какое расстояние было пройдено этими же рейсами в другие дни?"
   ]
  },
  {
   "cell_type": "code",
   "execution_count": 12,
   "metadata": {},
   "outputs": [
    {
     "data": {
      "text/html": [
       "<div>\n",
       "<style scoped>\n",
       "    .dataframe tbody tr th:only-of-type {\n",
       "        vertical-align: middle;\n",
       "    }\n",
       "\n",
       "    .dataframe tbody tr th {\n",
       "        vertical-align: top;\n",
       "    }\n",
       "\n",
       "    .dataframe thead th {\n",
       "        text-align: right;\n",
       "    }\n",
       "</style>\n",
       "<table border=\"1\" class=\"dataframe\">\n",
       "  <thead>\n",
       "    <tr style=\"text-align: right;\">\n",
       "      <th></th>\n",
       "      <th>DayofMonth</th>\n",
       "      <th>DayOfWeek</th>\n",
       "      <th>FlightNum</th>\n",
       "    </tr>\n",
       "  </thead>\n",
       "  <tbody>\n",
       "    <tr>\n",
       "      <th>1116</th>\n",
       "      <td>30</td>\n",
       "      <td>2</td>\n",
       "      <td>65</td>\n",
       "    </tr>\n",
       "    <tr>\n",
       "      <th>6958</th>\n",
       "      <td>26</td>\n",
       "      <td>5</td>\n",
       "      <td>65</td>\n",
       "    </tr>\n",
       "    <tr>\n",
       "      <th>17349</th>\n",
       "      <td>18</td>\n",
       "      <td>1</td>\n",
       "      <td>64</td>\n",
       "    </tr>\n",
       "    <tr>\n",
       "      <th>27534</th>\n",
       "      <td>11</td>\n",
       "      <td>2</td>\n",
       "      <td>64</td>\n",
       "    </tr>\n",
       "    <tr>\n",
       "      <th>46082</th>\n",
       "      <td>9</td>\n",
       "      <td>6</td>\n",
       "      <td>65</td>\n",
       "    </tr>\n",
       "    <tr>\n",
       "      <th>48112</th>\n",
       "      <td>28</td>\n",
       "      <td>4</td>\n",
       "      <td>64</td>\n",
       "    </tr>\n",
       "  </tbody>\n",
       "</table>\n",
       "</div>"
      ],
      "text/plain": [
       "       DayofMonth  DayOfWeek  FlightNum\n",
       "1116           30          2         65\n",
       "6958           26          5         65\n",
       "17349          18          1         64\n",
       "27534          11          2         64\n",
       "46082           9          6         65\n",
       "48112          28          4         64"
      ]
     },
     "execution_count": 12,
     "metadata": {},
     "output_type": "execute_result"
    }
   ],
   "source": [
    "data[data.Distance == 31][['DayofMonth', 'DayOfWeek', 'FlightNum']]"
   ]
  },
  {
   "cell_type": "markdown",
   "metadata": {},
   "source": [
    "Расстояние пройденное этими же рейсами в другие дни:"
   ]
  },
  {
   "cell_type": "code",
   "execution_count": 13,
   "metadata": {},
   "outputs": [
    {
     "data": {
      "text/plain": [
       "array([ 533,   31,  680, 2381,   82, 1005,  123,  359, 1747,  571,  372,\n",
       "       2454,  581,  883,  281,  682,  414,  386], dtype=int64)"
      ]
     },
     "execution_count": 13,
     "metadata": {},
     "output_type": "execute_result"
    }
   ],
   "source": [
    "pd.unique(data[data.FlightNum.isin([65, 64])]['Distance'])"
   ]
  },
  {
   "cell_type": "markdown",
   "metadata": {},
   "source": [
    "**9.** Из какого аэропорта было произведено больше всего вылетов? В каком городе он находится?"
   ]
  },
  {
   "cell_type": "code",
   "execution_count": 14,
   "metadata": {},
   "outputs": [
    {
     "data": {
      "text/plain": [
       "'ATL'"
      ]
     },
     "execution_count": 14,
     "metadata": {},
     "output_type": "execute_result"
    }
   ],
   "source": [
    "data.Origin.value_counts().index[0]"
   ]
  },
  {
   "cell_type": "markdown",
   "metadata": {},
   "source": [
    "**10.** Найдите для каждого аэропорта среднее время полета (`AirTime`) по всем вылетевшим из него рейсам. Какой аэропорт имеет наибольшее значение этого показателя?"
   ]
  },
  {
   "cell_type": "code",
   "execution_count": 15,
   "metadata": {},
   "outputs": [
    {
     "name": "stdout",
     "output_type": "stream",
     "text": [
      "205.2\n"
     ]
    }
   ],
   "source": [
    "origin_mean_airtime = data.groupby(\"Origin\")[\"AirTime\"].aggregate(np.mean)\n",
    "print(origin_mean_airtime.max())\n",
    "#airport_max = origin_mean_airtime.idxmax()\n",
    "#airports[airports[\"iata\"] == airport_max]"
   ]
  },
  {
   "cell_type": "markdown",
   "metadata": {},
   "source": [
    "**11.** Найдите аэропорт, у которого наибольшая доля задержанных (`DepDelay > 0`) рейсов. Исключите при этом из рассмотрения аэропорты, из которых было отправлено меньше 1000 рейсов (используйте функцию `filter` после `groupby`)."
   ]
  },
  {
   "cell_type": "code",
   "execution_count": 16,
   "metadata": {},
   "outputs": [
    {
     "data": {
      "text/html": [
       "<div>\n",
       "<style scoped>\n",
       "    .dataframe tbody tr th:only-of-type {\n",
       "        vertical-align: middle;\n",
       "    }\n",
       "\n",
       "    .dataframe tbody tr th {\n",
       "        vertical-align: top;\n",
       "    }\n",
       "\n",
       "    .dataframe thead th {\n",
       "        text-align: right;\n",
       "    }\n",
       "</style>\n",
       "<table border=\"1\" class=\"dataframe\">\n",
       "  <thead>\n",
       "    <tr style=\"text-align: right;\">\n",
       "      <th></th>\n",
       "      <th>Year</th>\n",
       "      <th>Month</th>\n",
       "      <th>DayofMonth</th>\n",
       "      <th>DayOfWeek</th>\n",
       "      <th>DepTime</th>\n",
       "      <th>CRSDepTime</th>\n",
       "      <th>ArrTime</th>\n",
       "      <th>CRSArrTime</th>\n",
       "      <th>UniqueCarrier</th>\n",
       "      <th>FlightNum</th>\n",
       "      <th>...</th>\n",
       "      <th>TaxiIn</th>\n",
       "      <th>TaxiOut</th>\n",
       "      <th>Cancelled</th>\n",
       "      <th>CancellationCode</th>\n",
       "      <th>Diverted</th>\n",
       "      <th>CarrierDelay</th>\n",
       "      <th>WeatherDelay</th>\n",
       "      <th>NASDelay</th>\n",
       "      <th>SecurityDelay</th>\n",
       "      <th>LateAircraftDelay</th>\n",
       "    </tr>\n",
       "    <tr>\n",
       "      <th>Origin</th>\n",
       "      <th></th>\n",
       "      <th></th>\n",
       "      <th></th>\n",
       "      <th></th>\n",
       "      <th></th>\n",
       "      <th></th>\n",
       "      <th></th>\n",
       "      <th></th>\n",
       "      <th></th>\n",
       "      <th></th>\n",
       "      <th></th>\n",
       "      <th></th>\n",
       "      <th></th>\n",
       "      <th></th>\n",
       "      <th></th>\n",
       "      <th></th>\n",
       "      <th></th>\n",
       "      <th></th>\n",
       "      <th></th>\n",
       "      <th></th>\n",
       "      <th></th>\n",
       "    </tr>\n",
       "  </thead>\n",
       "  <tbody>\n",
       "    <tr>\n",
       "      <th>MDW</th>\n",
       "      <td>446</td>\n",
       "      <td>446</td>\n",
       "      <td>446</td>\n",
       "      <td>446</td>\n",
       "      <td>446</td>\n",
       "      <td>446</td>\n",
       "      <td>445</td>\n",
       "      <td>446</td>\n",
       "      <td>446</td>\n",
       "      <td>446</td>\n",
       "      <td>...</td>\n",
       "      <td>445</td>\n",
       "      <td>446</td>\n",
       "      <td>446</td>\n",
       "      <td>0</td>\n",
       "      <td>446</td>\n",
       "      <td>190</td>\n",
       "      <td>190</td>\n",
       "      <td>190</td>\n",
       "      <td>190</td>\n",
       "      <td>190</td>\n",
       "    </tr>\n",
       "  </tbody>\n",
       "</table>\n",
       "<p>1 rows × 28 columns</p>\n",
       "</div>"
      ],
      "text/plain": [
       "        Year  Month  DayofMonth  DayOfWeek  DepTime  CRSDepTime  ArrTime  \\\n",
       "Origin                                                                     \n",
       "MDW      446    446         446        446      446         446      445   \n",
       "\n",
       "        CRSArrTime  UniqueCarrier  FlightNum  ...  TaxiIn  TaxiOut  Cancelled  \\\n",
       "Origin                                        ...                               \n",
       "MDW            446            446        446  ...     445      446        446   \n",
       "\n",
       "        CancellationCode  Diverted  CarrierDelay  WeatherDelay  NASDelay  \\\n",
       "Origin                                                                     \n",
       "MDW                    0       446           190           190       190   \n",
       "\n",
       "        SecurityDelay  LateAircraftDelay  \n",
       "Origin                                    \n",
       "MDW               190                190  \n",
       "\n",
       "[1 rows x 28 columns]"
      ]
     },
     "execution_count": 16,
     "metadata": {},
     "output_type": "execute_result"
    }
   ],
   "source": [
    "filtered = data.groupby('Origin').filter(lambda x: x['Origin'].count() < 1000)\n",
    "filtered[filtered.DepDelay > 0].groupby('Origin').count().sort_values('FlightNum', ascending=False).iloc[:1]"
   ]
  },
  {
   "cell_type": "markdown",
   "metadata": {},
   "source": [
    "## Линейная регрессия\n",
    "\n",
    "В этой части мы разберемся с линейной регрессией, способами её обучения и измерением качества ее прогнозов. \n",
    "\n",
    "Будем рассматривать датасет из предыдущей части задания для предсказания времени задержки отправления рейса в минутах (DepDelay). Отметим, что под задержкой подразумевается не только опоздание рейса относительно планируемого времени вылета, но и отправление до планируемого времени.\n",
    "\n",
    "### Подготовка данных\n",
    "\n",
    "**12.** Считайте выборку из файла при помощи функции pd.read_csv и ответьте на следующие вопросы:\n",
    "   - Имеются ли в данных пропущенные значения?\n",
    "   - Сколько всего пропущенных элементов в таблице \"объект-признак\"?\n",
    "   - Сколько объектов имеют хотя бы один пропуск?\n",
    "   - Сколько признаков имеют хотя бы одно пропущенное значение?"
   ]
  },
  {
   "cell_type": "code",
   "execution_count": 17,
   "metadata": {
    "scrolled": true
   },
   "outputs": [
    {
     "data": {
      "text/plain": [
       "355215"
      ]
     },
     "metadata": {},
     "output_type": "display_data"
    },
    {
     "data": {
      "text/plain": [
       "16"
      ]
     },
     "metadata": {},
     "output_type": "display_data"
    },
    {
     "data": {
      "text/plain": [
       "70000"
      ]
     },
     "metadata": {},
     "output_type": "display_data"
    }
   ],
   "source": [
    "data = pd.read_csv(\"2008.csv\")\n",
    "display(data.isna().sum().sum())\n",
    "display((data.isna().sum() > 0).sum())\n",
    "display((data.isna().sum(axis=1) > 0).sum())\n",
    "#print(data.head())"
   ]
  },
  {
   "cell_type": "markdown",
   "metadata": {},
   "source": [
    "Как вы понимаете, также не имеет смысла рассматривать при решении поставленной задачи объекты с пропущенным значением целевой переменной. В связи с этим ответьте на следующие вопросы и выполните соответствующие действия:\n",
    "- Имеются ли пропущенные значения в целевой переменной?\n",
    "- Проанализируйте объекты с пропущенными значениями целевой переменной. Чем вызвано это явление? Что их объединяет? Можно ли в связи с этим, на ваш взгляд, исключить какие-то признаки из рассмотрения? Обоснуйте свою точку зрения.\n",
    "\n",
    "Исключите из выборки объекты **с пропущенным значением целевой переменной и со значением целевой переменной, равным 0**, а также при необходимости исключите признаки в соответствии с вашим ответом на последний вопрос из списка и выделите целевую переменную в отдельный вектор, исключив её из матрицы \"объект-признак\"."
   ]
  },
  {
   "cell_type": "code",
   "execution_count": 18,
   "metadata": {},
   "outputs": [
    {
     "name": "stdout",
     "output_type": "stream",
     "text": [
      "Присутствуют пропущенные значения в целевой переменной:  True\n"
     ]
    }
   ],
   "source": [
    "print(\"Присутствуют пропущенные значения в целевой переменной: \" , data.DepDelay.hasnans)"
   ]
  },
  {
   "cell_type": "code",
   "execution_count": 19,
   "metadata": {},
   "outputs": [
    {
     "data": {
      "text/html": [
       "<div>\n",
       "<style scoped>\n",
       "    .dataframe tbody tr th:only-of-type {\n",
       "        vertical-align: middle;\n",
       "    }\n",
       "\n",
       "    .dataframe tbody tr th {\n",
       "        vertical-align: top;\n",
       "    }\n",
       "\n",
       "    .dataframe thead th {\n",
       "        text-align: right;\n",
       "    }\n",
       "</style>\n",
       "<table border=\"1\" class=\"dataframe\">\n",
       "  <thead>\n",
       "    <tr style=\"text-align: right;\">\n",
       "      <th></th>\n",
       "      <th>Year</th>\n",
       "      <th>Month</th>\n",
       "      <th>DayofMonth</th>\n",
       "      <th>DayOfWeek</th>\n",
       "      <th>DepTime</th>\n",
       "      <th>CRSDepTime</th>\n",
       "      <th>ArrTime</th>\n",
       "      <th>CRSArrTime</th>\n",
       "      <th>UniqueCarrier</th>\n",
       "      <th>FlightNum</th>\n",
       "      <th>...</th>\n",
       "      <th>TaxiIn</th>\n",
       "      <th>TaxiOut</th>\n",
       "      <th>Cancelled</th>\n",
       "      <th>CancellationCode</th>\n",
       "      <th>Diverted</th>\n",
       "      <th>CarrierDelay</th>\n",
       "      <th>WeatherDelay</th>\n",
       "      <th>NASDelay</th>\n",
       "      <th>SecurityDelay</th>\n",
       "      <th>LateAircraftDelay</th>\n",
       "    </tr>\n",
       "  </thead>\n",
       "  <tbody>\n",
       "    <tr>\n",
       "      <th>11</th>\n",
       "      <td>2008</td>\n",
       "      <td>3</td>\n",
       "      <td>6</td>\n",
       "      <td>4</td>\n",
       "      <td>NaN</td>\n",
       "      <td>1605</td>\n",
       "      <td>NaN</td>\n",
       "      <td>1940</td>\n",
       "      <td>AA</td>\n",
       "      <td>484</td>\n",
       "      <td>...</td>\n",
       "      <td>NaN</td>\n",
       "      <td>NaN</td>\n",
       "      <td>1</td>\n",
       "      <td>B</td>\n",
       "      <td>0</td>\n",
       "      <td>NaN</td>\n",
       "      <td>NaN</td>\n",
       "      <td>NaN</td>\n",
       "      <td>NaN</td>\n",
       "      <td>NaN</td>\n",
       "    </tr>\n",
       "    <tr>\n",
       "      <th>78</th>\n",
       "      <td>2008</td>\n",
       "      <td>1</td>\n",
       "      <td>19</td>\n",
       "      <td>6</td>\n",
       "      <td>NaN</td>\n",
       "      <td>750</td>\n",
       "      <td>NaN</td>\n",
       "      <td>930</td>\n",
       "      <td>EV</td>\n",
       "      <td>4772</td>\n",
       "      <td>...</td>\n",
       "      <td>NaN</td>\n",
       "      <td>NaN</td>\n",
       "      <td>1</td>\n",
       "      <td>B</td>\n",
       "      <td>0</td>\n",
       "      <td>NaN</td>\n",
       "      <td>NaN</td>\n",
       "      <td>NaN</td>\n",
       "      <td>NaN</td>\n",
       "      <td>NaN</td>\n",
       "    </tr>\n",
       "    <tr>\n",
       "      <th>103</th>\n",
       "      <td>2008</td>\n",
       "      <td>7</td>\n",
       "      <td>24</td>\n",
       "      <td>4</td>\n",
       "      <td>NaN</td>\n",
       "      <td>1230</td>\n",
       "      <td>NaN</td>\n",
       "      <td>1355</td>\n",
       "      <td>FL</td>\n",
       "      <td>816</td>\n",
       "      <td>...</td>\n",
       "      <td>NaN</td>\n",
       "      <td>NaN</td>\n",
       "      <td>1</td>\n",
       "      <td>A</td>\n",
       "      <td>0</td>\n",
       "      <td>NaN</td>\n",
       "      <td>NaN</td>\n",
       "      <td>NaN</td>\n",
       "      <td>NaN</td>\n",
       "      <td>NaN</td>\n",
       "    </tr>\n",
       "    <tr>\n",
       "      <th>112</th>\n",
       "      <td>2008</td>\n",
       "      <td>2</td>\n",
       "      <td>4</td>\n",
       "      <td>1</td>\n",
       "      <td>NaN</td>\n",
       "      <td>620</td>\n",
       "      <td>NaN</td>\n",
       "      <td>758</td>\n",
       "      <td>NW</td>\n",
       "      <td>1281</td>\n",
       "      <td>...</td>\n",
       "      <td>NaN</td>\n",
       "      <td>NaN</td>\n",
       "      <td>1</td>\n",
       "      <td>B</td>\n",
       "      <td>0</td>\n",
       "      <td>NaN</td>\n",
       "      <td>NaN</td>\n",
       "      <td>NaN</td>\n",
       "      <td>NaN</td>\n",
       "      <td>NaN</td>\n",
       "    </tr>\n",
       "    <tr>\n",
       "      <th>128</th>\n",
       "      <td>2008</td>\n",
       "      <td>1</td>\n",
       "      <td>21</td>\n",
       "      <td>1</td>\n",
       "      <td>NaN</td>\n",
       "      <td>1838</td>\n",
       "      <td>NaN</td>\n",
       "      <td>2005</td>\n",
       "      <td>UA</td>\n",
       "      <td>1251</td>\n",
       "      <td>...</td>\n",
       "      <td>NaN</td>\n",
       "      <td>NaN</td>\n",
       "      <td>1</td>\n",
       "      <td>A</td>\n",
       "      <td>0</td>\n",
       "      <td>NaN</td>\n",
       "      <td>NaN</td>\n",
       "      <td>NaN</td>\n",
       "      <td>NaN</td>\n",
       "      <td>NaN</td>\n",
       "    </tr>\n",
       "    <tr>\n",
       "      <th>...</th>\n",
       "      <td>...</td>\n",
       "      <td>...</td>\n",
       "      <td>...</td>\n",
       "      <td>...</td>\n",
       "      <td>...</td>\n",
       "      <td>...</td>\n",
       "      <td>...</td>\n",
       "      <td>...</td>\n",
       "      <td>...</td>\n",
       "      <td>...</td>\n",
       "      <td>...</td>\n",
       "      <td>...</td>\n",
       "      <td>...</td>\n",
       "      <td>...</td>\n",
       "      <td>...</td>\n",
       "      <td>...</td>\n",
       "      <td>...</td>\n",
       "      <td>...</td>\n",
       "      <td>...</td>\n",
       "      <td>...</td>\n",
       "      <td>...</td>\n",
       "    </tr>\n",
       "    <tr>\n",
       "      <th>69818</th>\n",
       "      <td>2008</td>\n",
       "      <td>6</td>\n",
       "      <td>9</td>\n",
       "      <td>1</td>\n",
       "      <td>NaN</td>\n",
       "      <td>1645</td>\n",
       "      <td>NaN</td>\n",
       "      <td>1800</td>\n",
       "      <td>MQ</td>\n",
       "      <td>3627</td>\n",
       "      <td>...</td>\n",
       "      <td>NaN</td>\n",
       "      <td>NaN</td>\n",
       "      <td>1</td>\n",
       "      <td>C</td>\n",
       "      <td>0</td>\n",
       "      <td>NaN</td>\n",
       "      <td>NaN</td>\n",
       "      <td>NaN</td>\n",
       "      <td>NaN</td>\n",
       "      <td>NaN</td>\n",
       "    </tr>\n",
       "    <tr>\n",
       "      <th>69836</th>\n",
       "      <td>2008</td>\n",
       "      <td>1</td>\n",
       "      <td>25</td>\n",
       "      <td>5</td>\n",
       "      <td>NaN</td>\n",
       "      <td>938</td>\n",
       "      <td>NaN</td>\n",
       "      <td>1030</td>\n",
       "      <td>MQ</td>\n",
       "      <td>3254</td>\n",
       "      <td>...</td>\n",
       "      <td>NaN</td>\n",
       "      <td>NaN</td>\n",
       "      <td>1</td>\n",
       "      <td>B</td>\n",
       "      <td>0</td>\n",
       "      <td>NaN</td>\n",
       "      <td>NaN</td>\n",
       "      <td>NaN</td>\n",
       "      <td>NaN</td>\n",
       "      <td>NaN</td>\n",
       "    </tr>\n",
       "    <tr>\n",
       "      <th>69884</th>\n",
       "      <td>2008</td>\n",
       "      <td>12</td>\n",
       "      <td>26</td>\n",
       "      <td>5</td>\n",
       "      <td>NaN</td>\n",
       "      <td>1935</td>\n",
       "      <td>NaN</td>\n",
       "      <td>2116</td>\n",
       "      <td>NW</td>\n",
       "      <td>1430</td>\n",
       "      <td>...</td>\n",
       "      <td>NaN</td>\n",
       "      <td>NaN</td>\n",
       "      <td>1</td>\n",
       "      <td>B</td>\n",
       "      <td>0</td>\n",
       "      <td>NaN</td>\n",
       "      <td>NaN</td>\n",
       "      <td>NaN</td>\n",
       "      <td>NaN</td>\n",
       "      <td>NaN</td>\n",
       "    </tr>\n",
       "    <tr>\n",
       "      <th>69918</th>\n",
       "      <td>2008</td>\n",
       "      <td>3</td>\n",
       "      <td>1</td>\n",
       "      <td>6</td>\n",
       "      <td>NaN</td>\n",
       "      <td>600</td>\n",
       "      <td>NaN</td>\n",
       "      <td>742</td>\n",
       "      <td>EV</td>\n",
       "      <td>4715</td>\n",
       "      <td>...</td>\n",
       "      <td>NaN</td>\n",
       "      <td>NaN</td>\n",
       "      <td>1</td>\n",
       "      <td>A</td>\n",
       "      <td>0</td>\n",
       "      <td>NaN</td>\n",
       "      <td>NaN</td>\n",
       "      <td>NaN</td>\n",
       "      <td>NaN</td>\n",
       "      <td>NaN</td>\n",
       "    </tr>\n",
       "    <tr>\n",
       "      <th>69949</th>\n",
       "      <td>2008</td>\n",
       "      <td>1</td>\n",
       "      <td>21</td>\n",
       "      <td>1</td>\n",
       "      <td>NaN</td>\n",
       "      <td>1630</td>\n",
       "      <td>NaN</td>\n",
       "      <td>1729</td>\n",
       "      <td>MQ</td>\n",
       "      <td>4198</td>\n",
       "      <td>...</td>\n",
       "      <td>NaN</td>\n",
       "      <td>NaN</td>\n",
       "      <td>1</td>\n",
       "      <td>C</td>\n",
       "      <td>0</td>\n",
       "      <td>NaN</td>\n",
       "      <td>NaN</td>\n",
       "      <td>NaN</td>\n",
       "      <td>NaN</td>\n",
       "      <td>NaN</td>\n",
       "    </tr>\n",
       "  </tbody>\n",
       "</table>\n",
       "<p>1399 rows × 29 columns</p>\n",
       "</div>"
      ],
      "text/plain": [
       "       Year  Month  DayofMonth  DayOfWeek  DepTime  CRSDepTime  ArrTime  \\\n",
       "11     2008      3           6          4      NaN        1605      NaN   \n",
       "78     2008      1          19          6      NaN         750      NaN   \n",
       "103    2008      7          24          4      NaN        1230      NaN   \n",
       "112    2008      2           4          1      NaN         620      NaN   \n",
       "128    2008      1          21          1      NaN        1838      NaN   \n",
       "...     ...    ...         ...        ...      ...         ...      ...   \n",
       "69818  2008      6           9          1      NaN        1645      NaN   \n",
       "69836  2008      1          25          5      NaN         938      NaN   \n",
       "69884  2008     12          26          5      NaN        1935      NaN   \n",
       "69918  2008      3           1          6      NaN         600      NaN   \n",
       "69949  2008      1          21          1      NaN        1630      NaN   \n",
       "\n",
       "       CRSArrTime UniqueCarrier  FlightNum  ... TaxiIn  TaxiOut  Cancelled  \\\n",
       "11           1940            AA        484  ...    NaN      NaN          1   \n",
       "78            930            EV       4772  ...    NaN      NaN          1   \n",
       "103          1355            FL        816  ...    NaN      NaN          1   \n",
       "112           758            NW       1281  ...    NaN      NaN          1   \n",
       "128          2005            UA       1251  ...    NaN      NaN          1   \n",
       "...           ...           ...        ...  ...    ...      ...        ...   \n",
       "69818        1800            MQ       3627  ...    NaN      NaN          1   \n",
       "69836        1030            MQ       3254  ...    NaN      NaN          1   \n",
       "69884        2116            NW       1430  ...    NaN      NaN          1   \n",
       "69918         742            EV       4715  ...    NaN      NaN          1   \n",
       "69949        1729            MQ       4198  ...    NaN      NaN          1   \n",
       "\n",
       "       CancellationCode  Diverted  CarrierDelay WeatherDelay NASDelay  \\\n",
       "11                    B         0           NaN          NaN      NaN   \n",
       "78                    B         0           NaN          NaN      NaN   \n",
       "103                   A         0           NaN          NaN      NaN   \n",
       "112                   B         0           NaN          NaN      NaN   \n",
       "128                   A         0           NaN          NaN      NaN   \n",
       "...                 ...       ...           ...          ...      ...   \n",
       "69818                 C         0           NaN          NaN      NaN   \n",
       "69836                 B         0           NaN          NaN      NaN   \n",
       "69884                 B         0           NaN          NaN      NaN   \n",
       "69918                 A         0           NaN          NaN      NaN   \n",
       "69949                 C         0           NaN          NaN      NaN   \n",
       "\n",
       "       SecurityDelay  LateAircraftDelay  \n",
       "11               NaN                NaN  \n",
       "78               NaN                NaN  \n",
       "103              NaN                NaN  \n",
       "112              NaN                NaN  \n",
       "128              NaN                NaN  \n",
       "...              ...                ...  \n",
       "69818            NaN                NaN  \n",
       "69836            NaN                NaN  \n",
       "69884            NaN                NaN  \n",
       "69918            NaN                NaN  \n",
       "69949            NaN                NaN  \n",
       "\n",
       "[1399 rows x 29 columns]"
      ]
     },
     "execution_count": 19,
     "metadata": {},
     "output_type": "execute_result"
    }
   ],
   "source": [
    "var_missed = data[data.DepDelay.isna()]\n",
    "var_missed"
   ]
  },
  {
   "cell_type": "code",
   "execution_count": 20,
   "metadata": {},
   "outputs": [
    {
     "data": {
      "text/plain": [
       "True"
      ]
     },
     "execution_count": 20,
     "metadata": {},
     "output_type": "execute_result"
    }
   ],
   "source": [
    "data1 = data[~(data.DepDelay.isna() | data.DepDelay == 0)]\n",
    "data1.DepDelay.hasnans"
   ]
  },
  {
   "cell_type": "markdown",
   "metadata": {},
   "source": [
    "**13.** Обратите внимание, что признаки DepTime, CRSDepTime, ArrTime, CRSArrTime приведены в формате hhmm, в связи с чем будет не вполне корректно рассматривать их как вещественные.\n",
    "\n",
    "Преобразуйте каждый признак FeatureName из указанных в пару новых признаков FeatureName\\_Hour, FeatureName\\_Minute, разделив каждое из значений на часы и минуты. Не забудьте при этом исключить исходный признак из выборки. В случае, если значение признака отсутствует, значения двух новых признаков, его заменяющих, также должны отсутствовать. \n",
    "\n",
    "Например, признак DepTime необходимо заменить на пару признаков DepTime_Hour, DepTime_Minute. При этом, например, значение 155 исходного признака будет преобразовано в значения 1 и 55 признаков DepTime_Hour, DepTime_Minute соответственно."
   ]
  },
  {
   "cell_type": "code",
   "execution_count": 21,
   "metadata": {},
   "outputs": [
    {
     "name": "stderr",
     "output_type": "stream",
     "text": [
      "<ipython-input-21-f2571932477e>:3: SettingWithCopyWarning: \n",
      "A value is trying to be set on a copy of a slice from a DataFrame.\n",
      "Try using .loc[row_indexer,col_indexer] = value instead\n",
      "\n",
      "See the caveats in the documentation: https://pandas.pydata.org/pandas-docs/stable/user_guide/indexing.html#returning-a-view-versus-a-copy\n",
      "  data1[f'{pr}_Hour'] = data[pr]\n",
      "<ipython-input-21-f2571932477e>:4: SettingWithCopyWarning: \n",
      "A value is trying to be set on a copy of a slice from a DataFrame\n",
      "\n",
      "See the caveats in the documentation: https://pandas.pydata.org/pandas-docs/stable/user_guide/indexing.html#returning-a-view-versus-a-copy\n",
      "  data1[f'{pr}_Hour'][~data1[pr].isna()] = data1[~data1[pr].isna()][pr].astype(int) // 100\n",
      "C:\\ProgramData\\Anaconda3\\lib\\site-packages\\pandas\\core\\series.py:1020: SettingWithCopyWarning: \n",
      "A value is trying to be set on a copy of a slice from a DataFrame\n",
      "\n",
      "See the caveats in the documentation: https://pandas.pydata.org/pandas-docs/stable/user_guide/indexing.html#returning-a-view-versus-a-copy\n",
      "  self._where(~key, value, inplace=True)\n",
      "<ipython-input-21-f2571932477e>:5: SettingWithCopyWarning: \n",
      "A value is trying to be set on a copy of a slice from a DataFrame.\n",
      "Try using .loc[row_indexer,col_indexer] = value instead\n",
      "\n",
      "See the caveats in the documentation: https://pandas.pydata.org/pandas-docs/stable/user_guide/indexing.html#returning-a-view-versus-a-copy\n",
      "  data1[f'{pr}_Minute'] = data[pr]\n",
      "<ipython-input-21-f2571932477e>:6: SettingWithCopyWarning: \n",
      "A value is trying to be set on a copy of a slice from a DataFrame.\n",
      "Try using .loc[row_indexer,col_indexer] = value instead\n",
      "\n",
      "See the caveats in the documentation: https://pandas.pydata.org/pandas-docs/stable/user_guide/indexing.html#returning-a-view-versus-a-copy\n",
      "  data1[f'{pr}_Minute'] = data1[~data1[pr].isna()][pr].astype(int) % 100\n",
      "C:\\ProgramData\\Anaconda3\\lib\\site-packages\\pandas\\core\\frame.py:4163: SettingWithCopyWarning: \n",
      "A value is trying to be set on a copy of a slice from a DataFrame\n",
      "\n",
      "See the caveats in the documentation: https://pandas.pydata.org/pandas-docs/stable/user_guide/indexing.html#returning-a-view-versus-a-copy\n",
      "  return super().drop(\n"
     ]
    }
   ],
   "source": [
    "for pr in ['DepTime', 'CRSDepTime', 'ArrTime' , 'CRSArrTime']:\n",
    "\n",
    "    data1[f'{pr}_Hour'] = data[pr]\n",
    "    data1[f'{pr}_Hour'][~data1[pr].isna()] = data1[~data1[pr].isna()][pr].astype(int) // 100\n",
    "    data1[f'{pr}_Minute'] = data[pr]\n",
    "    data1[f'{pr}_Minute'] = data1[~data1[pr].isna()][pr].astype(int) % 100\n",
    "    data1.drop(pr, inplace=True, axis=1)"
   ]
  },
  {
   "cell_type": "code",
   "execution_count": 22,
   "metadata": {},
   "outputs": [
    {
     "data": {
      "text/html": [
       "<div>\n",
       "<style scoped>\n",
       "    .dataframe tbody tr th:only-of-type {\n",
       "        vertical-align: middle;\n",
       "    }\n",
       "\n",
       "    .dataframe tbody tr th {\n",
       "        vertical-align: top;\n",
       "    }\n",
       "\n",
       "    .dataframe thead th {\n",
       "        text-align: right;\n",
       "    }\n",
       "</style>\n",
       "<table border=\"1\" class=\"dataframe\">\n",
       "  <thead>\n",
       "    <tr style=\"text-align: right;\">\n",
       "      <th></th>\n",
       "      <th>Year</th>\n",
       "      <th>Month</th>\n",
       "      <th>DayofMonth</th>\n",
       "      <th>DayOfWeek</th>\n",
       "      <th>UniqueCarrier</th>\n",
       "      <th>FlightNum</th>\n",
       "      <th>TailNum</th>\n",
       "      <th>ActualElapsedTime</th>\n",
       "      <th>CRSElapsedTime</th>\n",
       "      <th>AirTime</th>\n",
       "      <th>...</th>\n",
       "      <th>SecurityDelay</th>\n",
       "      <th>LateAircraftDelay</th>\n",
       "      <th>DepTime_Hour</th>\n",
       "      <th>DepTime_Minute</th>\n",
       "      <th>CRSDepTime_Hour</th>\n",
       "      <th>CRSDepTime_Minute</th>\n",
       "      <th>ArrTime_Hour</th>\n",
       "      <th>ArrTime_Minute</th>\n",
       "      <th>CRSArrTime_Hour</th>\n",
       "      <th>CRSArrTime_Minute</th>\n",
       "    </tr>\n",
       "  </thead>\n",
       "  <tbody>\n",
       "    <tr>\n",
       "      <th>0</th>\n",
       "      <td>2008</td>\n",
       "      <td>6</td>\n",
       "      <td>18</td>\n",
       "      <td>3</td>\n",
       "      <td>WN</td>\n",
       "      <td>242</td>\n",
       "      <td>N699SW</td>\n",
       "      <td>57.0</td>\n",
       "      <td>65.0</td>\n",
       "      <td>46.0</td>\n",
       "      <td>...</td>\n",
       "      <td>NaN</td>\n",
       "      <td>NaN</td>\n",
       "      <td>21.0</td>\n",
       "      <td>11.0</td>\n",
       "      <td>20</td>\n",
       "      <td>55</td>\n",
       "      <td>23.0</td>\n",
       "      <td>8.0</td>\n",
       "      <td>23</td>\n",
       "      <td>0</td>\n",
       "    </tr>\n",
       "    <tr>\n",
       "      <th>1</th>\n",
       "      <td>2008</td>\n",
       "      <td>6</td>\n",
       "      <td>4</td>\n",
       "      <td>3</td>\n",
       "      <td>XE</td>\n",
       "      <td>2380</td>\n",
       "      <td>N15980</td>\n",
       "      <td>124.0</td>\n",
       "      <td>138.0</td>\n",
       "      <td>108.0</td>\n",
       "      <td>...</td>\n",
       "      <td>NaN</td>\n",
       "      <td>NaN</td>\n",
       "      <td>14.0</td>\n",
       "      <td>26.0</td>\n",
       "      <td>14</td>\n",
       "      <td>10</td>\n",
       "      <td>17.0</td>\n",
       "      <td>30.0</td>\n",
       "      <td>17</td>\n",
       "      <td>28</td>\n",
       "    </tr>\n",
       "    <tr>\n",
       "      <th>2</th>\n",
       "      <td>2008</td>\n",
       "      <td>8</td>\n",
       "      <td>3</td>\n",
       "      <td>7</td>\n",
       "      <td>WN</td>\n",
       "      <td>1769</td>\n",
       "      <td>N464WN</td>\n",
       "      <td>138.0</td>\n",
       "      <td>155.0</td>\n",
       "      <td>125.0</td>\n",
       "      <td>...</td>\n",
       "      <td>NaN</td>\n",
       "      <td>NaN</td>\n",
       "      <td>11.0</td>\n",
       "      <td>43.0</td>\n",
       "      <td>11</td>\n",
       "      <td>45</td>\n",
       "      <td>15.0</td>\n",
       "      <td>1.0</td>\n",
       "      <td>15</td>\n",
       "      <td>20</td>\n",
       "    </tr>\n",
       "    <tr>\n",
       "      <th>3</th>\n",
       "      <td>2008</td>\n",
       "      <td>1</td>\n",
       "      <td>23</td>\n",
       "      <td>3</td>\n",
       "      <td>OO</td>\n",
       "      <td>3802</td>\n",
       "      <td>N465SW</td>\n",
       "      <td>102.0</td>\n",
       "      <td>111.0</td>\n",
       "      <td>79.0</td>\n",
       "      <td>...</td>\n",
       "      <td>NaN</td>\n",
       "      <td>NaN</td>\n",
       "      <td>11.0</td>\n",
       "      <td>41.0</td>\n",
       "      <td>11</td>\n",
       "      <td>44</td>\n",
       "      <td>13.0</td>\n",
       "      <td>23.0</td>\n",
       "      <td>13</td>\n",
       "      <td>35</td>\n",
       "    </tr>\n",
       "    <tr>\n",
       "      <th>4</th>\n",
       "      <td>2008</td>\n",
       "      <td>5</td>\n",
       "      <td>4</td>\n",
       "      <td>7</td>\n",
       "      <td>WN</td>\n",
       "      <td>399</td>\n",
       "      <td>N489WN</td>\n",
       "      <td>148.0</td>\n",
       "      <td>160.0</td>\n",
       "      <td>136.0</td>\n",
       "      <td>...</td>\n",
       "      <td>NaN</td>\n",
       "      <td>NaN</td>\n",
       "      <td>8.0</td>\n",
       "      <td>15.0</td>\n",
       "      <td>8</td>\n",
       "      <td>20</td>\n",
       "      <td>12.0</td>\n",
       "      <td>43.0</td>\n",
       "      <td>13</td>\n",
       "      <td>0</td>\n",
       "    </tr>\n",
       "    <tr>\n",
       "      <th>...</th>\n",
       "      <td>...</td>\n",
       "      <td>...</td>\n",
       "      <td>...</td>\n",
       "      <td>...</td>\n",
       "      <td>...</td>\n",
       "      <td>...</td>\n",
       "      <td>...</td>\n",
       "      <td>...</td>\n",
       "      <td>...</td>\n",
       "      <td>...</td>\n",
       "      <td>...</td>\n",
       "      <td>...</td>\n",
       "      <td>...</td>\n",
       "      <td>...</td>\n",
       "      <td>...</td>\n",
       "      <td>...</td>\n",
       "      <td>...</td>\n",
       "      <td>...</td>\n",
       "      <td>...</td>\n",
       "      <td>...</td>\n",
       "      <td>...</td>\n",
       "    </tr>\n",
       "    <tr>\n",
       "      <th>69994</th>\n",
       "      <td>2008</td>\n",
       "      <td>1</td>\n",
       "      <td>26</td>\n",
       "      <td>6</td>\n",
       "      <td>OH</td>\n",
       "      <td>5218</td>\n",
       "      <td>N655CA</td>\n",
       "      <td>110.0</td>\n",
       "      <td>113.0</td>\n",
       "      <td>85.0</td>\n",
       "      <td>...</td>\n",
       "      <td>NaN</td>\n",
       "      <td>NaN</td>\n",
       "      <td>9.0</td>\n",
       "      <td>20.0</td>\n",
       "      <td>9</td>\n",
       "      <td>25</td>\n",
       "      <td>11.0</td>\n",
       "      <td>10.0</td>\n",
       "      <td>11</td>\n",
       "      <td>18</td>\n",
       "    </tr>\n",
       "    <tr>\n",
       "      <th>69995</th>\n",
       "      <td>2008</td>\n",
       "      <td>5</td>\n",
       "      <td>12</td>\n",
       "      <td>1</td>\n",
       "      <td>DL</td>\n",
       "      <td>794</td>\n",
       "      <td>N988DL</td>\n",
       "      <td>128.0</td>\n",
       "      <td>129.0</td>\n",
       "      <td>86.0</td>\n",
       "      <td>...</td>\n",
       "      <td>NaN</td>\n",
       "      <td>NaN</td>\n",
       "      <td>18.0</td>\n",
       "      <td>29.0</td>\n",
       "      <td>18</td>\n",
       "      <td>40</td>\n",
       "      <td>21.0</td>\n",
       "      <td>37.0</td>\n",
       "      <td>21</td>\n",
       "      <td>49</td>\n",
       "    </tr>\n",
       "    <tr>\n",
       "      <th>69996</th>\n",
       "      <td>2008</td>\n",
       "      <td>5</td>\n",
       "      <td>11</td>\n",
       "      <td>7</td>\n",
       "      <td>OO</td>\n",
       "      <td>6159</td>\n",
       "      <td>N776SK</td>\n",
       "      <td>47.0</td>\n",
       "      <td>49.0</td>\n",
       "      <td>30.0</td>\n",
       "      <td>...</td>\n",
       "      <td>0.0</td>\n",
       "      <td>22.0</td>\n",
       "      <td>11.0</td>\n",
       "      <td>49.0</td>\n",
       "      <td>11</td>\n",
       "      <td>25</td>\n",
       "      <td>13.0</td>\n",
       "      <td>36.0</td>\n",
       "      <td>13</td>\n",
       "      <td>14</td>\n",
       "    </tr>\n",
       "    <tr>\n",
       "      <th>69998</th>\n",
       "      <td>2008</td>\n",
       "      <td>2</td>\n",
       "      <td>18</td>\n",
       "      <td>1</td>\n",
       "      <td>NW</td>\n",
       "      <td>641</td>\n",
       "      <td>N318US</td>\n",
       "      <td>234.0</td>\n",
       "      <td>219.0</td>\n",
       "      <td>192.0</td>\n",
       "      <td>...</td>\n",
       "      <td>0.0</td>\n",
       "      <td>6.0</td>\n",
       "      <td>19.0</td>\n",
       "      <td>6.0</td>\n",
       "      <td>19</td>\n",
       "      <td>0</td>\n",
       "      <td>22.0</td>\n",
       "      <td>0.0</td>\n",
       "      <td>21</td>\n",
       "      <td>39</td>\n",
       "    </tr>\n",
       "    <tr>\n",
       "      <th>69999</th>\n",
       "      <td>2008</td>\n",
       "      <td>12</td>\n",
       "      <td>6</td>\n",
       "      <td>6</td>\n",
       "      <td>WN</td>\n",
       "      <td>510</td>\n",
       "      <td>N786SW</td>\n",
       "      <td>60.0</td>\n",
       "      <td>65.0</td>\n",
       "      <td>46.0</td>\n",
       "      <td>...</td>\n",
       "      <td>NaN</td>\n",
       "      <td>NaN</td>\n",
       "      <td>8.0</td>\n",
       "      <td>59.0</td>\n",
       "      <td>9</td>\n",
       "      <td>0</td>\n",
       "      <td>9.0</td>\n",
       "      <td>59.0</td>\n",
       "      <td>10</td>\n",
       "      <td>5</td>\n",
       "    </tr>\n",
       "  </tbody>\n",
       "</table>\n",
       "<p>64803 rows × 33 columns</p>\n",
       "</div>"
      ],
      "text/plain": [
       "       Year  Month  DayofMonth  DayOfWeek UniqueCarrier  FlightNum TailNum  \\\n",
       "0      2008      6          18          3            WN        242  N699SW   \n",
       "1      2008      6           4          3            XE       2380  N15980   \n",
       "2      2008      8           3          7            WN       1769  N464WN   \n",
       "3      2008      1          23          3            OO       3802  N465SW   \n",
       "4      2008      5           4          7            WN        399  N489WN   \n",
       "...     ...    ...         ...        ...           ...        ...     ...   \n",
       "69994  2008      1          26          6            OH       5218  N655CA   \n",
       "69995  2008      5          12          1            DL        794  N988DL   \n",
       "69996  2008      5          11          7            OO       6159  N776SK   \n",
       "69998  2008      2          18          1            NW        641  N318US   \n",
       "69999  2008     12           6          6            WN        510  N786SW   \n",
       "\n",
       "       ActualElapsedTime  CRSElapsedTime  AirTime  ...  SecurityDelay  \\\n",
       "0                   57.0            65.0     46.0  ...            NaN   \n",
       "1                  124.0           138.0    108.0  ...            NaN   \n",
       "2                  138.0           155.0    125.0  ...            NaN   \n",
       "3                  102.0           111.0     79.0  ...            NaN   \n",
       "4                  148.0           160.0    136.0  ...            NaN   \n",
       "...                  ...             ...      ...  ...            ...   \n",
       "69994              110.0           113.0     85.0  ...            NaN   \n",
       "69995              128.0           129.0     86.0  ...            NaN   \n",
       "69996               47.0            49.0     30.0  ...            0.0   \n",
       "69998              234.0           219.0    192.0  ...            0.0   \n",
       "69999               60.0            65.0     46.0  ...            NaN   \n",
       "\n",
       "       LateAircraftDelay DepTime_Hour DepTime_Minute  CRSDepTime_Hour  \\\n",
       "0                    NaN         21.0           11.0               20   \n",
       "1                    NaN         14.0           26.0               14   \n",
       "2                    NaN         11.0           43.0               11   \n",
       "3                    NaN         11.0           41.0               11   \n",
       "4                    NaN          8.0           15.0                8   \n",
       "...                  ...          ...            ...              ...   \n",
       "69994                NaN          9.0           20.0                9   \n",
       "69995                NaN         18.0           29.0               18   \n",
       "69996               22.0         11.0           49.0               11   \n",
       "69998                6.0         19.0            6.0               19   \n",
       "69999                NaN          8.0           59.0                9   \n",
       "\n",
       "       CRSDepTime_Minute  ArrTime_Hour  ArrTime_Minute CRSArrTime_Hour  \\\n",
       "0                     55          23.0             8.0              23   \n",
       "1                     10          17.0            30.0              17   \n",
       "2                     45          15.0             1.0              15   \n",
       "3                     44          13.0            23.0              13   \n",
       "4                     20          12.0            43.0              13   \n",
       "...                  ...           ...             ...             ...   \n",
       "69994                 25          11.0            10.0              11   \n",
       "69995                 40          21.0            37.0              21   \n",
       "69996                 25          13.0            36.0              13   \n",
       "69998                  0          22.0             0.0              21   \n",
       "69999                  0           9.0            59.0              10   \n",
       "\n",
       "       CRSArrTime_Minute  \n",
       "0                      0  \n",
       "1                     28  \n",
       "2                     20  \n",
       "3                     35  \n",
       "4                      0  \n",
       "...                  ...  \n",
       "69994                 18  \n",
       "69995                 49  \n",
       "69996                 14  \n",
       "69998                 39  \n",
       "69999                  5  \n",
       "\n",
       "[64803 rows x 33 columns]"
      ]
     },
     "execution_count": 22,
     "metadata": {},
     "output_type": "execute_result"
    }
   ],
   "source": [
    "data1"
   ]
  },
  {
   "cell_type": "markdown",
   "metadata": {},
   "source": [
    "**14.** Некоторые из признаков, отличных от целевой переменной, могут оказывать чересчур значимое влияние на прогноз, поскольку по своему смыслу содержат большую долю информации о значении целевой переменной. Изучите описание датасета и исключите признаки, сильно коррелирующие с ответами. Ваш выбор признаков для исключения из выборки обоснуйте. Кроме того, исключите признаки TailNum и Year."
   ]
  },
  {
   "cell_type": "markdown",
   "metadata": {},
   "source": [
    "Исключим следующие признакки, т.к. они в себе содержат задержку по заданным причинами, что напрямую влияет на итоговую задержку"
   ]
  },
  {
   "cell_type": "code",
   "execution_count": 23,
   "metadata": {},
   "outputs": [
    {
     "name": "stderr",
     "output_type": "stream",
     "text": [
      "C:\\ProgramData\\Anaconda3\\lib\\site-packages\\pandas\\core\\frame.py:4163: SettingWithCopyWarning: \n",
      "A value is trying to be set on a copy of a slice from a DataFrame\n",
      "\n",
      "See the caveats in the documentation: https://pandas.pydata.org/pandas-docs/stable/user_guide/indexing.html#returning-a-view-versus-a-copy\n",
      "  return super().drop(\n"
     ]
    }
   ],
   "source": [
    "import matplotlib.pyplot as plt\n",
    "for pr in ['CarrierDelay', 'WeatherDelay', 'NASDelay',\n",
    "                'SecurityDelay', 'LateAircraftDelay', 'TailNum', 'Year']:\n",
    "    data1.drop(pr, axis=1, inplace=True)"
   ]
  },
  {
   "cell_type": "markdown",
   "metadata": {},
   "source": [
    "**15.** Приведем данные к виду, пригодному для обучения линейных моделей. Для этого вещественные признаки надо отмасштабировать, а категориальные — привести к числовому виду. Также надо устранить пропуски в данных."
   ]
  },
  {
   "cell_type": "markdown",
   "metadata": {},
   "source": [
    "В первую очередь поймем, зачем необходимо применять масштабирование. Следующие ячейки с кодом построят гистограммы для 3 вещественных признаков выборки."
   ]
  },
  {
   "cell_type": "code",
   "execution_count": 24,
   "metadata": {
    "scrolled": true
   },
   "outputs": [
    {
     "data": {
      "text/plain": [
       "<matplotlib.legend.Legend at 0x1726e9dad30>"
      ]
     },
     "execution_count": 24,
     "metadata": {},
     "output_type": "execute_result"
    },
    {
     "data": {
      "image/png": "[encoded data removed]",
      "text/plain": [
       "<Figure size 864x360 with 2 Axes>"
      ]
     },
     "metadata": {
      "needs_background": "light"
     },
     "output_type": "display_data"
    }
   ],
   "source": [
    "plt.figure(figsize=(12, 5))\n",
    "plt.subplot(1, 2, 1)\n",
    "plt.hist(data1['DepTime_Hour'], color='red', label='Легенда')\n",
    "plt.legend()\n",
    "plt.subplot(1, 2, 2)\n",
    "plt.hist(data1['TaxiIn'], color='green', label='Легенда')\n",
    "plt.legend()"
   ]
  },
  {
   "cell_type": "code",
   "execution_count": 25,
   "metadata": {},
   "outputs": [
    {
     "data": {
      "text/plain": [
       "<matplotlib.legend.Legend at 0x1726ec25b20>"
      ]
     },
     "execution_count": 25,
     "metadata": {},
     "output_type": "execute_result"
    },
    {
     "data": {
      "image/png": "[encoded data removed]",
      "text/plain": [
       "<Figure size 1080x360 with 1 Axes>"
      ]
     },
     "metadata": {
      "needs_background": "light"
     },
     "output_type": "display_data"
    }
   ],
   "source": [
    "plt.figure(figsize=(15, 5))\n",
    "plt.subplot(1, 3, 1)\n",
    "plt.hist(data1['FlightNum'], color='blue', label='Легенда')\n",
    "plt.legend()"
   ]
  },
  {
   "cell_type": "markdown",
   "metadata": {},
   "source": [
    "Какую проблему вы наблюдаете на этих графиках? Как масштабирование поможет её исправить?"
   ]
  },
  {
   "cell_type": "markdown",
   "metadata": {},
   "source": [
    "**Ответ**: Не Масштабировано. Масштабирвоание позволит привести все данные к одному масштабу.\n",
    "Некоторые из признаков в нашем датасете являются категориальными. Типичным подходом к работе с ними является бинарное, или [one-hot-кодирование](https://en.wikipedia.org/wiki/One-hot).\n",
    "\n",
    "Реализуйте функцию transform_data, которая принимает на вход DataFrame с признаками и выполняет следующие шаги:\n",
    "1. Замена пропущенных значений на нули для вещественных признаков и на строки 'nan' для категориальных.\n",
    "2. Масштабирование вещественных признаков с помощью [StandardScaler](http://scikit-learn.org/stable/modules/generated/sklearn.preprocessing.StandardScaler.html).\n",
    "3. One-hot-кодирование категориальных признаков с помощью [DictVectorizer](http://scikit-learn.org/stable/modules/generated/sklearn.feature_extraction.DictVectorizer.html) или функции [pd.get_dummies](http://pandas.pydata.org/pandas-docs/stable/generated/pandas.get_dummies.html).\n",
    "\n",
    "Метод должен возвращать преобразованный DataFrame, который должна состоять из масштабированных вещественных признаков и закодированных категориальных (исходные признаки должны быть исключены из выборки)."
   ]
  },
  {
   "cell_type": "markdown",
   "metadata": {},
   "source": [
    "Некоторые из признаков в нашем датасете являются категориальными. Типичным подходом к работе с ними является бинарное, или [one-hot-кодирование](https://en.wikipedia.org/wiki/One-hot).\n",
    "\n",
    "Реализуйте функцию transform_data, которая принимает на вход DataFrame с признаками и выполняет следующие шаги:\n",
    "1. Замена пропущенных значений на нули для вещественных признаков и на строки 'nan' для категориальных.\n",
    "2. Масштабирование вещественных признаков с помощью [StandardScaler](http://scikit-learn.org/stable/modules/generated/sklearn.preprocessing.StandardScaler.html).\n",
    "3. One-hot-кодирование категориальных признаков с помощью [DictVectorizer](http://scikit-learn.org/stable/modules/generated/sklearn.feature_extraction.DictVectorizer.html) или функции [pd.get_dummies](http://pandas.pydata.org/pandas-docs/stable/generated/pandas.get_dummies.html).\n",
    "\n",
    "Метод должен возвращать преобразованный DataFrame, который должна состоять из масштабированных вещественных признаков и закодированных категориальных (исходные признаки должны быть исключены из выборки)."
   ]
  },
  {
   "cell_type": "code",
   "execution_count": 26,
   "metadata": {},
   "outputs": [],
   "source": [
    "from pandas.api.types import is_string_dtype\n",
    "from pandas.api.types import is_numeric_dtype\n",
    "\n",
    "from sklearn.model_selection import train_test_split\n",
    "from sklearn.preprocessing import StandardScaler\n",
    "def transform_data(data):\n",
    "    new_data = data.copy()\n",
    "    numeric_cols = data.select_dtypes(include=['int64', 'float64']).columns\n",
    "    new_data[numeric_cols] = new_data[numeric_cols].fillna(0)\n",
    "    new_data[numeric_cols] = StandardScaler().fit_transform(new_data[numeric_cols])\n",
    "    for feature in data.select_dtypes(include=['object']).columns:\n",
    "        new_data[feature].fillna('nan')\n",
    "    new_data = pd.get_dummies(new_data)\n",
    "    return new_data"
   ]
  },
  {
   "cell_type": "code",
   "execution_count": 27,
   "metadata": {},
   "outputs": [],
   "source": [
    "data2 = transform_data(data1)"
   ]
  },
  {
   "cell_type": "code",
   "execution_count": 28,
   "metadata": {},
   "outputs": [
    {
     "data": {
      "text/html": [
       "<div>\n",
       "<style scoped>\n",
       "    .dataframe tbody tr th:only-of-type {\n",
       "        vertical-align: middle;\n",
       "    }\n",
       "\n",
       "    .dataframe tbody tr th {\n",
       "        vertical-align: top;\n",
       "    }\n",
       "\n",
       "    .dataframe thead th {\n",
       "        text-align: right;\n",
       "    }\n",
       "</style>\n",
       "<table border=\"1\" class=\"dataframe\">\n",
       "  <thead>\n",
       "    <tr style=\"text-align: right;\">\n",
       "      <th></th>\n",
       "      <th>Month</th>\n",
       "      <th>DayofMonth</th>\n",
       "      <th>DayOfWeek</th>\n",
       "      <th>FlightNum</th>\n",
       "      <th>ActualElapsedTime</th>\n",
       "      <th>CRSElapsedTime</th>\n",
       "      <th>AirTime</th>\n",
       "      <th>ArrDelay</th>\n",
       "      <th>DepDelay</th>\n",
       "      <th>Distance</th>\n",
       "      <th>...</th>\n",
       "      <th>Dest_VPS</th>\n",
       "      <th>Dest_WRG</th>\n",
       "      <th>Dest_WYS</th>\n",
       "      <th>Dest_XNA</th>\n",
       "      <th>Dest_YAK</th>\n",
       "      <th>Dest_YKM</th>\n",
       "      <th>Dest_YUM</th>\n",
       "      <th>CancellationCode_A</th>\n",
       "      <th>CancellationCode_B</th>\n",
       "      <th>CancellationCode_C</th>\n",
       "    </tr>\n",
       "  </thead>\n",
       "  <tbody>\n",
       "    <tr>\n",
       "      <th>0</th>\n",
       "      <td>-0.113219</td>\n",
       "      <td>0.257061</td>\n",
       "      <td>-0.463346</td>\n",
       "      <td>-0.995271</td>\n",
       "      <td>-0.928844</td>\n",
       "      <td>-0.915024</td>\n",
       "      <td>-0.805272</td>\n",
       "      <td>-0.017261</td>\n",
       "      <td>0.152938</td>\n",
       "      <td>-0.740878</td>\n",
       "      <td>...</td>\n",
       "      <td>0</td>\n",
       "      <td>0</td>\n",
       "      <td>0</td>\n",
       "      <td>0</td>\n",
       "      <td>0</td>\n",
       "      <td>0</td>\n",
       "      <td>0</td>\n",
       "      <td>0</td>\n",
       "      <td>0</td>\n",
       "      <td>0</td>\n",
       "    </tr>\n",
       "    <tr>\n",
       "      <th>1</th>\n",
       "      <td>-0.113219</td>\n",
       "      <td>-1.332356</td>\n",
       "      <td>-0.463346</td>\n",
       "      <td>0.099383</td>\n",
       "      <td>-0.001742</td>\n",
       "      <td>0.132265</td>\n",
       "      <td>0.095951</td>\n",
       "      <td>-0.172303</td>\n",
       "      <td>0.152938</td>\n",
       "      <td>0.189993</td>\n",
       "      <td>...</td>\n",
       "      <td>0</td>\n",
       "      <td>0</td>\n",
       "      <td>0</td>\n",
       "      <td>0</td>\n",
       "      <td>0</td>\n",
       "      <td>0</td>\n",
       "      <td>0</td>\n",
       "      <td>0</td>\n",
       "      <td>0</td>\n",
       "      <td>0</td>\n",
       "    </tr>\n",
       "    <tr>\n",
       "      <th>2</th>\n",
       "      <td>0.471302</td>\n",
       "      <td>-1.445885</td>\n",
       "      <td>1.540371</td>\n",
       "      <td>-0.213449</td>\n",
       "      <td>0.191981</td>\n",
       "      <td>0.376154</td>\n",
       "      <td>0.343061</td>\n",
       "      <td>-0.714949</td>\n",
       "      <td>-0.351420</td>\n",
       "      <td>0.477909</td>\n",
       "      <td>...</td>\n",
       "      <td>0</td>\n",
       "      <td>0</td>\n",
       "      <td>0</td>\n",
       "      <td>0</td>\n",
       "      <td>0</td>\n",
       "      <td>0</td>\n",
       "      <td>0</td>\n",
       "      <td>0</td>\n",
       "      <td>0</td>\n",
       "      <td>0</td>\n",
       "    </tr>\n",
       "    <tr>\n",
       "      <th>3</th>\n",
       "      <td>-1.574522</td>\n",
       "      <td>0.824710</td>\n",
       "      <td>-0.463346</td>\n",
       "      <td>0.827446</td>\n",
       "      <td>-0.306164</td>\n",
       "      <td>-0.255089</td>\n",
       "      <td>-0.325589</td>\n",
       "      <td>-0.534067</td>\n",
       "      <td>-0.379439</td>\n",
       "      <td>-0.343447</td>\n",
       "      <td>...</td>\n",
       "      <td>0</td>\n",
       "      <td>0</td>\n",
       "      <td>0</td>\n",
       "      <td>0</td>\n",
       "      <td>0</td>\n",
       "      <td>0</td>\n",
       "      <td>0</td>\n",
       "      <td>0</td>\n",
       "      <td>0</td>\n",
       "      <td>0</td>\n",
       "    </tr>\n",
       "    <tr>\n",
       "      <th>4</th>\n",
       "      <td>-0.405479</td>\n",
       "      <td>-1.332356</td>\n",
       "      <td>1.540371</td>\n",
       "      <td>-0.914887</td>\n",
       "      <td>0.330354</td>\n",
       "      <td>0.447886</td>\n",
       "      <td>0.502955</td>\n",
       "      <td>-0.663269</td>\n",
       "      <td>-0.435479</td>\n",
       "      <td>0.642180</td>\n",
       "      <td>...</td>\n",
       "      <td>0</td>\n",
       "      <td>0</td>\n",
       "      <td>0</td>\n",
       "      <td>0</td>\n",
       "      <td>0</td>\n",
       "      <td>0</td>\n",
       "      <td>0</td>\n",
       "      <td>0</td>\n",
       "      <td>0</td>\n",
       "      <td>0</td>\n",
       "    </tr>\n",
       "  </tbody>\n",
       "</table>\n",
       "<p>5 rows × 641 columns</p>\n",
       "</div>"
      ],
      "text/plain": [
       "      Month  DayofMonth  DayOfWeek  FlightNum  ActualElapsedTime  \\\n",
       "0 -0.113219    0.257061  -0.463346  -0.995271          -0.928844   \n",
       "1 -0.113219   -1.332356  -0.463346   0.099383          -0.001742   \n",
       "2  0.471302   -1.445885   1.540371  -0.213449           0.191981   \n",
       "3 -1.574522    0.824710  -0.463346   0.827446          -0.306164   \n",
       "4 -0.405479   -1.332356   1.540371  -0.914887           0.330354   \n",
       "\n",
       "   CRSElapsedTime   AirTime  ArrDelay  DepDelay  Distance  ...  Dest_VPS  \\\n",
       "0       -0.915024 -0.805272 -0.017261  0.152938 -0.740878  ...         0   \n",
       "1        0.132265  0.095951 -0.172303  0.152938  0.189993  ...         0   \n",
       "2        0.376154  0.343061 -0.714949 -0.351420  0.477909  ...         0   \n",
       "3       -0.255089 -0.325589 -0.534067 -0.379439 -0.343447  ...         0   \n",
       "4        0.447886  0.502955 -0.663269 -0.435479  0.642180  ...         0   \n",
       "\n",
       "   Dest_WRG  Dest_WYS  Dest_XNA  Dest_YAK  Dest_YKM  Dest_YUM  \\\n",
       "0         0         0         0         0         0         0   \n",
       "1         0         0         0         0         0         0   \n",
       "2         0         0         0         0         0         0   \n",
       "3         0         0         0         0         0         0   \n",
       "4         0         0         0         0         0         0   \n",
       "\n",
       "   CancellationCode_A  CancellationCode_B  CancellationCode_C  \n",
       "0                   0                   0                   0  \n",
       "1                   0                   0                   0  \n",
       "2                   0                   0                   0  \n",
       "3                   0                   0                   0  \n",
       "4                   0                   0                   0  \n",
       "\n",
       "[5 rows x 641 columns]"
      ]
     },
     "execution_count": 28,
     "metadata": {},
     "output_type": "execute_result"
    }
   ],
   "source": [
    "data2.head()"
   ]
  },
  {
   "cell_type": "code",
   "execution_count": 29,
   "metadata": {},
   "outputs": [
    {
     "data": {
      "text/plain": [
       "Index(['Month', 'DayofMonth', 'DayOfWeek', 'FlightNum', 'ActualElapsedTime',\n",
       "       'CRSElapsedTime', 'AirTime', 'ArrDelay', 'DepDelay', 'Distance',\n",
       "       ...\n",
       "       'Dest_VPS', 'Dest_WRG', 'Dest_WYS', 'Dest_XNA', 'Dest_YAK', 'Dest_YKM',\n",
       "       'Dest_YUM', 'CancellationCode_A', 'CancellationCode_B',\n",
       "       'CancellationCode_C'],\n",
       "      dtype='object', length=641)"
      ]
     },
     "execution_count": 29,
     "metadata": {},
     "output_type": "execute_result"
    }
   ],
   "source": [
    "data2.columns"
   ]
  },
  {
   "cell_type": "code",
   "execution_count": 30,
   "metadata": {},
   "outputs": [
    {
     "name": "stdout",
     "output_type": "stream",
     "text": [
      "Кол-во признаков: 641\n"
     ]
    }
   ],
   "source": [
    "print('Кол-во признаков:', len(data2.columns))"
   ]
  },
  {
   "cell_type": "markdown",
   "metadata": {},
   "source": [
    "Примените функцию transform_data к данным. Сколько признаков получилось после преобразования?"
   ]
  },
  {
   "cell_type": "markdown",
   "metadata": {},
   "source": [
    "**16. (0.5 балла)** Разбейте выборку и вектор целевой переменной на обучение и контроль в отношении 70/30 (для этого можно использовать, например, функцию [train_test_split](http://scikit-learn.org/stable/modules/generated/sklearn.cross_validation.train_test_split.html)). "
   ]
  },
  {
   "cell_type": "code",
   "execution_count": 31,
   "metadata": {},
   "outputs": [],
   "source": [
    "from sklearn.model_selection import train_test_split\n",
    "X_train, X_test, y_train, y_test = train_test_split(data2.drop('DepDelay', axis=1), data2.DepDelay, test_size=0.3)"
   ]
  },
  {
   "cell_type": "markdown",
   "metadata": {},
   "source": [
    "### Scikit-learn\n",
    "\n",
    "<img src = \"https://pp.vk.me/c4534/u35727827/93547647/x_d31c4463.jpg\">\n",
    "Теперь, когда мы привели данные к пригодному виду, попробуем решить задачу при помощи метода наименьших квадратов. Напомним, что данный метод заключается в оптимизации функционала $MSE$:\n",
    "\n",
    "$$MSE(X, y) = \\frac{1}{l} \\sum_{i=1}^l (<w, x_i> - y_i)^2 \\to \\min_{w},$$\n",
    "\n",
    "где $\\{ (x_i, y_i ) \\}_{i=1}^l$ — обучающая выборка, состоящая из $l$ пар объект-ответ.\n",
    "\n",
    "Заметим, что решение данной задачи уже реализовано в модуле sklearn в виде класса [LinearRegression](http://scikit-learn.org/stable/modules/generated/sklearn.linear_model.LinearRegression.html#sklearn.linear_model.LinearRegression).\n",
    "\n",
    "**17.** Обучите линейную регрессию на 1000 объектах из обучающей выборки и выведите значения $MSE$ и $R^2$ на этой подвыборке и контрольной выборке (итого 4 различных числа). Проинтерпретируйте полученный результат — насколько качественные прогнозы строит полученная модель? Какие проблемы наблюдаются в модели?\n",
    "\n",
    "**Подсказка**: изучите значения полученных коэффициентов $w$, сохраненных в атрибуте coef_ объекта LinearRegression."
   ]
  },
  {
   "cell_type": "code",
   "execution_count": 32,
   "metadata": {},
   "outputs": [],
   "source": [
    "from sklearn.linear_model import LinearRegression\n",
    "from sklearn.metrics import r2_score, mean_squared_error"
   ]
  },
  {
   "cell_type": "code",
   "execution_count": 33,
   "metadata": {},
   "outputs": [
    {
     "data": {
      "text/plain": [
       "LinearRegression()"
      ]
     },
     "execution_count": 33,
     "metadata": {},
     "output_type": "execute_result"
    }
   ],
   "source": [
    "lr_model = LinearRegression()\n",
    "lr_model.fit(X_train.iloc[:1000], y_train[:1000])"
   ]
  },
  {
   "cell_type": "code",
   "execution_count": 34,
   "metadata": {},
   "outputs": [],
   "source": [
    "#X_train.iloc[:1000].shape, y_train[:1000].shape"
   ]
  },
  {
   "cell_type": "code",
   "execution_count": 35,
   "metadata": {},
   "outputs": [
    {
     "name": "stdout",
     "output_type": "stream",
     "text": [
      "MSE train: 0.02\n",
      "MSE test: 1916597586407956224.00\n",
      "R2 train: 0.98\n",
      "R2 test: -0.01\n"
     ]
    }
   ],
   "source": [
    "mse_tr = mean_squared_error(lr_model.predict(X_train.iloc[:1000]), y_train[:1000])\n",
    "mse_te = mean_squared_error(lr_model.predict(X_test), y_test)\n",
    "\n",
    "r2_tr = r2_score(lr_model.predict(X_train.iloc[:1000]), y_train[:1000])\n",
    "r2_te = r2_score(lr_model.predict(X_test), y_test)\n",
    "\n",
    "print(f'MSE train: {mse_tr:.2f}\\nMSE test: {mse_te:.2f}')\n",
    "print(f'R2 train: {r2_tr:.2f}\\nR2 test: {r2_te:.2f}')"
   ]
  },
  {
   "cell_type": "code",
   "execution_count": 36,
   "metadata": {},
   "outputs": [
    {
     "data": {
      "text/plain": [
       "450665125.61570203"
      ]
     },
     "execution_count": 36,
     "metadata": {},
     "output_type": "execute_result"
    }
   ],
   "source": [
    "lr_model.coef_.mean()"
   ]
  },
  {
   "cell_type": "markdown",
   "metadata": {
    "collapsed": true
   },
   "source": [
    "Для решения описанных вами в предыдущем пункте проблем используем L1- или L2-регуляризацию, тем самым получив Lasso и Ridge регрессии соответственно и изменив оптимизационную задачу одним из следующих образов:\n",
    "$$MSE_{L1}(X, y) = \\frac{1}{l} \\sum_{i=1}^l (<w, x_i> - y_i)^2 + \\alpha ||w||_1 \\to \\min_{w},$$\n",
    "$$MSE_{L2}(X, y) = \\frac{1}{l} \\sum_{i=1}^l (<w, x_i> - y_i)^2 + \\alpha ||w||_2^2 \\to \\min_{w},$$\n",
    "\n",
    "где $\\alpha$ — коэффициент регуляризации. Один из способов его подбора заключается в переборе некоторого количества значений и оценке качества на кросс-валидации для каждого из них, после чего выбирается значение, для которого было получено наилучшее качество.\n",
    "\n",
    "**18.** Обучите линейные регрессии с L1- и L2-регуляризатором, подобрав лучшее значение параметра регуляризации из списка alpha_grid при помощи кросс-валидации c 5 фолдами на тех же 1000 объектах, что и в п.17. Выведите значения $MSE$ и $R^2$ на обучающей и контрольной выборках. Удалось ли решить указанные вами ранее проблемы?\n",
    "\n",
    "Для выполнения данного задания вам могут понадобиться реализованные в библиотеке объекты [LassoCV](http://scikit-learn.org/stable/modules/generated/sklearn.linear_model.LassoCV.html), [RidgeCV](http://scikit-learn.org/stable/modules/generated/sklearn.linear_model.RidgeCV.html) и [KFold](http://scikit-learn.org/stable/modules/generated/sklearn.cross_validation.KFold.html).\n"
   ]
  },
  {
   "cell_type": "code",
   "execution_count": 37,
   "metadata": {},
   "outputs": [],
   "source": [
    "from sklearn.linear_model import LassoCV\n",
    "from sklearn.linear_model import RidgeCV\n",
    "from sklearn.model_selection import KFold"
   ]
  },
  {
   "cell_type": "code",
   "execution_count": 38,
   "metadata": {},
   "outputs": [
    {
     "name": "stdout",
     "output_type": "stream",
     "text": [
      "Лассо бест альфа :  0.008402066852606844\n",
      "Ридж бест альфа :  10.0\n"
     ]
    }
   ],
   "source": [
    "subset_x = X_train[:1000]\n",
    "subset_y = y_train[:1000]\n",
    "\n",
    "kf = KFold(n_splits=5)\n",
    "\n",
    "model_lasso = LassoCV()\n",
    "model_ridge = RidgeCV()\n",
    "\n",
    "model_lasso.fit(subset_x, subset_y)\n",
    "print(\"Лассо бест альфа : \", model_lasso.alpha_)\n",
    "\n",
    "model_ridge.fit(subset_x, subset_y, )\n",
    "print(\"Ридж бест альфа : \", model_ridge.alpha_)"
   ]
  },
  {
   "cell_type": "code",
   "execution_count": 39,
   "metadata": {},
   "outputs": [
    {
     "name": "stdout",
     "output_type": "stream",
     "text": [
      "Lasso\n",
      "MSE train: 0.0875153740765995 MSE test  0.06359475955752464\n",
      "R2 train:  0.9008828008217825 R2 test:  0.9316638846505726\n",
      "Ridge\n",
      "MSE train:  0.0695360140666167 MSE test:  0.057948756460059474\n",
      "R2 train:  0.0695360140666167 R2 test:  0.057948756460059474\n"
     ]
    }
   ],
   "source": [
    "mse_train = mean_squared_error(model_lasso.predict(X_train.iloc[:1000]), y_train[:1000])\n",
    "mse_test = mean_squared_error(model_lasso.predict(X_test), y_test)\n",
    "\n",
    "r2_train = r2_score(model_lasso.predict(X_train.iloc[:1000]), y_train[:1000])\n",
    "r2_test = r2_score(model_lasso.predict(X_test), y_test)\n",
    "\n",
    "print(\"Lasso\")\n",
    "print(\"MSE train:\", mse_train, \"MSE test \", mse_test)\n",
    "print(\"R2 train: \",r2_train, \"R2 test: \", r2_test)\n",
    "\n",
    "\n",
    "mse_train = mean_squared_error(model_ridge.predict(X_train.iloc[:1000]), y_train[:1000])\n",
    "mse_test = mean_squared_error(model_ridge.predict(X_test), y_test)\n",
    "\n",
    "r2_tr = r2_score(model_ridge.predict(X_train.iloc[:1000]), y_train[:1000])\n",
    "r2_te = r2_score(model_ridge.predict(X_test), y_test)\n",
    "print(\"Ridge\")\n",
    "print(\"MSE train: \", mse_train, \"MSE test: \" , mse_test)\n",
    "print(\"R2 train: \", mse_train, \"R2 test: \", mse_test)"
   ]
  },
  {
   "cell_type": "markdown",
   "metadata": {},
   "source": [
    "добавление регуляризации позволило решить проблему переобучения"
   ]
  },
  {
   "cell_type": "markdown",
   "metadata": {},
   "source": [
    "### Градиентный спуск\n",
    "\n",
    "В предыдущем разделе мы использовали существующие реализации методов обучения линейной регрессии с регуляризацией и без. Тем не менее, подобные реализации, как правило, имеются лишь для ограниченного набора стандартных методов. В частности, при выходе функционала качества за пределы стандартного множества необходимо самостоятельно реализовывать составляющие процесса решения оптимизационной задачи. Именно этому и посвящен данный раздел задания.\n",
    "\n",
    "Пусть необходимо минимизировать следующий функционал (Mean Square Percentage Error — модифицированный [RMSPE](https://www.kaggle.com/c/rossmann-store-sales/details/evaluation)):\n",
    "$$MSPE(\\{x_i, y_i\\}_{i=1}^l, \\, w) = \\frac{1}{l}\\sum_{i=1}^l \\left( \\frac{y_i - \\langle w, x_i \\rangle }{y_i} \\right)^2,$$\n",
    "\n",
    "где $\\{x_i, y_i\\}_{i=1}^l$ — обучающая выборка, $w$ — вектор весов линейной модели. Будем также рассматривать функционал $MSPE$ с L2-регуляризацией:\n",
    "\n",
    "$$MSPE(\\{x_i, y_i\\}_{i=1}^l, \\, w) = \\frac{1}{l}\\sum_{i=1}^l \\left( \\frac{y_i - \\langle w, x_i \\rangle }{y_i} \\right)^2 + ||w||_2^2.$$\n",
    "\n",
    "**19.** Добавьте к объектам обеих выборок из п. 16 единичный признак."
   ]
  },
  {
   "cell_type": "code",
   "execution_count": 40,
   "metadata": {},
   "outputs": [],
   "source": [
    "X_train['unit_feature'] = 1\n",
    "X_test['unit_feature'] = 1"
   ]
  },
  {
   "cell_type": "code",
   "execution_count": 71,
   "metadata": {},
   "outputs": [
    {
     "name": "stdout",
     "output_type": "stream",
     "text": [
      "Object `np.dot()` not found.\n"
     ]
    }
   ],
   "source": [
    "?np.dot()"
   ]
  },
  {
   "cell_type": "markdown",
   "metadata": {},
   "source": [
    "**20.** Реализуйте функции, которые вычисляют:\n",
    " * прогнозы линейной модели;\n",
    " * функционал $MSPE$ и его градиент;\n",
    " * регуляризованный $MSPE$ и его градиент."
   ]
  },
  {
   "cell_type": "code",
   "execution_count": 89,
   "metadata": {},
   "outputs": [],
   "source": [
    "# возвращает вектор прогнозов линейной модели с вектором весов w для выборки X\n",
    "def make_pred(X, w):\n",
    "    return np.dot(X,w)"
   ]
  },
  {
   "cell_type": "code",
   "execution_count": 90,
   "metadata": {},
   "outputs": [],
   "source": [
    "# возвращает значение функционала MSPE для выборки (X, y) и вектора весов w\n",
    "def get_func(w, X, y):\n",
    "    pred = make_pred(X, w)\n",
    "    perc = (y - pred) / (y + 1e-7)\n",
    "    return np.mean(np.square(perc))"
   ]
  },
  {
   "cell_type": "code",
   "execution_count": 91,
   "metadata": {},
   "outputs": [],
   "source": [
    "# возвращает градиент функционала MSPE для выборки (X, y) и вектора весов w\n",
    "def get_grad(w, X, y):\n",
    "    y_pred = make_pred(X, w)\n",
    "    loss = y_pred - y\n",
    "    z = (loss / (y + 1e-7) / (y + 1e-7)).dot(X)\n",
    "    return 2 * z / X.shape[0]"
   ]
  },
  {
   "cell_type": "code",
   "execution_count": 92,
   "metadata": {},
   "outputs": [],
   "source": [
    "# возвращает значение регуляризованного функционала MSPE для выборки (X, y) и вектора весов w\n",
    "def get_reg_func(w, X, y):\n",
    "    pred = make_pred(X, w)\n",
    "    perc = (y - pred) / (y + 1e-7)\n",
    "    return np.mean(np.square(perc)) + np.linalg.norm(w)"
   ]
  },
  {
   "cell_type": "code",
   "execution_count": 93,
   "metadata": {},
   "outputs": [],
   "source": [
    "# возвращает градиент регуляризованного функционала MSPE для выборки (X, y) и вектора весов w\n",
    "def get_reg_grad(w, X, y):\n",
    "    y_pred = make_pred(X, w)\n",
    "    loss = y_pred - y\n",
    "    z = (loss / (y + 1e-7) / (y + 1e-7)).dot(X)\n",
    "    return 2 * z / X.shape[0] + w / X.shape[0]"
   ]
  },
  {
   "cell_type": "markdown",
   "metadata": {},
   "source": [
    "**21.** Реализуйте метод градиентного спуска для описанных функционалов ($MSPE$ и его регуляризованный вариант). Функция должна принимать следующие параметры:\n",
    " - X — матрица \"объект-признак\";\n",
    " - y — вектор целевой переменной;\n",
    " - w0 — начальное значение вектора весов;\n",
    " - step_size — значение темпа обучения;\n",
    " - max_iter — максимальное число итераций;\n",
    " - eps — значение, используемое в критерии останова;\n",
    " - is_reg — бинарный параметр, принимает значение True в случае наличия регуляризации функционала, False — в противном случае.\n",
    " \n",
    "Процесс должен быть остановлен, если выполнено хотя бы одно из следующих условий:\n",
    " - было выполнено заданное количество итераций max_iter;\n",
    " - евклидова норма разности векторов $w$ на соседних итерациях стала меньше, чем eps.\n",
    "\n",
    "Функция должна возвращать полученный в результате оптимизации вектор $w$ и список значений функционала на каждой итерации."
   ]
  },
  {
   "cell_type": "code",
   "execution_count": 126,
   "metadata": {},
   "outputs": [],
   "source": [
    "def grad_descent(X, y, w0, step_size, max_iter, eps, is_reg, verbose=False):\n",
    "    if is_reg:\n",
    "        f_cost = get_reg_func\n",
    "        f_grad = get_reg_grad\n",
    "    else:\n",
    "        f_cost = get_func\n",
    "        f_grad = get_grad\n",
    "    \n",
    "    w = w0.copy()\n",
    "    history = []\n",
    "    w_prev = None\n",
    "    success = True\n",
    "    for i in range(max_iter):\n",
    "        if w_prev is not None and np.linalg.norm(w_prev - w) < eps:\n",
    "            break\n",
    "        mpse = f_cost(w, X, y)\n",
    "        history.append(mpse)\n",
    "        \n",
    "        mpse_grad = f_grad(w, X, y)\n",
    "        # обновить веса\n",
    "        w_prev = w.copy()\n",
    "        w = w - step_size * mpse_grad\n",
    "        if verbose:\n",
    "            print(f'{i}: {mpse:.3f}')\n",
    "        \n",
    "        if i > 1 and mpse > 1e10:\n",
    "            print('Алгоритм не сходится')\n",
    "            success = False\n",
    "            break\n",
    "    return w, history, success"
   ]
  },
  {
   "cell_type": "markdown",
   "metadata": {},
   "source": [
    "Обучите линейную регрессию с функционалом $MSPE$ на обучающей выборке при помощи метода градиентного спуска и изобразите кривые зависимости значения функционала от номера итерации для различных:\n",
    " * значений размера шага из набора [0.001, 1, 10];\n",
    " * способов начальной инициализации вектора весов (нули, случайные веса).\n",
    "\n",
    "Проанализируйте полученные результаты — влияют ли данные параметры на скорость сходимости и итоговое качество? Если да, то как?"
   ]
  },
  {
   "cell_type": "code",
   "execution_count": 49,
   "metadata": {},
   "outputs": [
    {
     "name": "stdout",
     "output_type": "stream",
     "text": [
      "0: 228510.517\n",
      "1: 65087.760\n",
      "2: 21690.772\n",
      "3: 9784.068\n",
      "4: 6201.510\n",
      "5: 4871.334\n",
      "6: 4193.674\n",
      "7: 3739.893\n",
      "8: 3389.265\n",
      "9: 3102.978\n",
      "10: 2864.812\n",
      "11: 2665.441\n",
      "12: 2498.169\n",
      "13: 2357.679\n",
      "14: 2239.593\n",
      "15: 2140.266\n",
      "16: 2056.648\n",
      "17: 1986.187\n",
      "18: 1926.747\n",
      "19: 1876.538\n",
      "20: 1834.061\n",
      "21: 1798.061\n",
      "22: 1767.486\n",
      "23: 1741.455\n",
      "24: 1719.232\n",
      "25: 1700.199\n",
      "26: 1683.837\n",
      "27: 1669.715\n",
      "28: 1657.469\n",
      "29: 1646.795\n",
      "30: 1637.439\n",
      "31: 1629.187\n",
      "32: 1621.861\n",
      "33: 1615.311\n",
      "34: 1609.412\n",
      "35: 1604.060\n",
      "36: 1599.166\n",
      "37: 1594.657\n",
      "38: 1590.470\n",
      "39: 1586.556\n",
      "40: 1582.869\n",
      "41: 1579.375\n",
      "42: 1576.042\n",
      "43: 1572.846\n",
      "44: 1569.764\n",
      "45: 1566.780\n",
      "46: 1563.878\n",
      "47: 1561.046\n",
      "48: 1558.273\n",
      "49: 1555.551\n",
      "50: 1552.871\n",
      "51: 1550.229\n",
      "52: 1547.619\n",
      "53: 1545.036\n",
      "54: 1542.477\n",
      "55: 1539.939\n",
      "56: 1537.419\n",
      "57: 1534.915\n",
      "58: 1532.426\n",
      "59: 1529.949\n",
      "60: 1527.485\n",
      "61: 1525.030\n",
      "62: 1522.586\n",
      "63: 1520.150\n",
      "64: 1517.723\n",
      "65: 1515.303\n",
      "66: 1512.891\n",
      "67: 1510.486\n",
      "68: 1508.087\n",
      "69: 1505.695\n",
      "70: 1503.309\n",
      "71: 1500.929\n",
      "72: 1498.554\n",
      "73: 1496.186\n",
      "74: 1493.823\n",
      "75: 1491.465\n",
      "76: 1489.113\n",
      "77: 1486.766\n",
      "78: 1484.425\n",
      "79: 1482.088\n",
      "80: 1479.757\n",
      "81: 1477.431\n",
      "82: 1475.110\n",
      "83: 1472.793\n",
      "84: 1470.482\n",
      "85: 1468.176\n",
      "86: 1465.875\n",
      "87: 1463.579\n",
      "88: 1461.287\n",
      "89: 1459.001\n",
      "90: 1456.719\n",
      "91: 1454.443\n",
      "92: 1452.171\n",
      "93: 1449.904\n",
      "94: 1447.642\n",
      "95: 1445.384\n",
      "96: 1443.131\n",
      "97: 1440.884\n",
      "98: 1438.640\n",
      "99: 1436.402\n",
      "100: 1434.168\n",
      "101: 1431.939\n",
      "102: 1429.715\n",
      "103: 1427.496\n",
      "104: 1425.281\n",
      "105: 1423.071\n",
      "106: 1420.865\n",
      "107: 1418.665\n",
      "108: 1416.468\n",
      "109: 1414.277\n",
      "110: 1412.090\n",
      "111: 1409.908\n",
      "112: 1407.730\n",
      "113: 1405.557\n",
      "114: 1403.388\n",
      "115: 1401.224\n",
      "116: 1399.065\n",
      "117: 1396.910\n",
      "118: 1394.760\n",
      "119: 1392.614\n",
      "120: 1390.473\n",
      "121: 1388.336\n",
      "122: 1386.203\n",
      "123: 1384.076\n",
      "124: 1381.952\n",
      "125: 1379.833\n",
      "126: 1377.719\n",
      "127: 1375.609\n",
      "128: 1373.504\n",
      "129: 1371.402\n",
      "130: 1369.306\n",
      "131: 1367.213\n",
      "132: 1365.125\n",
      "133: 1363.042\n",
      "134: 1360.963\n",
      "135: 1358.888\n",
      "136: 1356.817\n",
      "137: 1354.751\n",
      "138: 1352.690\n",
      "139: 1350.632\n",
      "140: 1348.579\n",
      "141: 1346.530\n",
      "142: 1344.485\n",
      "143: 1342.445\n",
      "144: 1340.409\n",
      "145: 1338.377\n",
      "146: 1336.350\n",
      "147: 1334.327\n",
      "148: 1332.308\n",
      "149: 1330.293\n",
      "150: 1328.282\n",
      "151: 1326.276\n",
      "152: 1324.274\n",
      "153: 1322.275\n",
      "154: 1320.282\n",
      "155: 1318.292\n",
      "156: 1316.306\n",
      "157: 1314.325\n",
      "158: 1312.348\n",
      "159: 1310.375\n",
      "160: 1308.405\n",
      "161: 1306.441\n",
      "162: 1304.480\n",
      "163: 1302.523\n",
      "164: 1300.570\n",
      "165: 1298.622\n",
      "166: 1296.677\n",
      "167: 1294.737\n",
      "168: 1292.800\n",
      "169: 1290.868\n",
      "170: 1288.939\n",
      "171: 1287.015\n",
      "172: 1285.095\n",
      "173: 1283.178\n",
      "174: 1281.266\n",
      "175: 1279.357\n",
      "176: 1277.453\n",
      "177: 1275.552\n",
      "178: 1273.656\n",
      "179: 1271.763\n",
      "180: 1269.874\n",
      "181: 1267.990\n",
      "182: 1266.109\n",
      "183: 1264.232\n",
      "184: 1262.359\n",
      "185: 1260.489\n",
      "186: 1258.624\n",
      "187: 1256.763\n",
      "188: 1254.905\n",
      "189: 1253.051\n",
      "190: 1251.201\n",
      "191: 1249.355\n",
      "192: 1247.513\n",
      "193: 1245.674\n",
      "194: 1243.840\n",
      "195: 1242.009\n",
      "196: 1240.182\n",
      "197: 1238.358\n",
      "198: 1236.539\n",
      "199: 1234.723\n",
      "200: 1232.911\n",
      "201: 1231.103\n",
      "202: 1229.298\n",
      "203: 1227.497\n",
      "204: 1225.700\n",
      "205: 1223.907\n",
      "206: 1222.117\n",
      "207: 1220.331\n",
      "208: 1218.549\n",
      "209: 1216.770\n",
      "210: 1214.995\n",
      "211: 1213.224\n",
      "212: 1211.456\n",
      "213: 1209.692\n",
      "214: 1207.932\n",
      "215: 1206.175\n",
      "216: 1204.422\n",
      "217: 1202.672\n",
      "218: 1200.926\n",
      "219: 1199.184\n",
      "220: 1197.445\n",
      "221: 1195.710\n",
      "222: 1193.978\n",
      "223: 1192.250\n",
      "224: 1190.525\n",
      "225: 1188.804\n",
      "226: 1187.087\n",
      "227: 1185.373\n",
      "228: 1183.662\n",
      "229: 1181.956\n",
      "230: 1180.252\n",
      "231: 1178.552\n",
      "232: 1176.856\n",
      "233: 1175.163\n",
      "234: 1173.473\n",
      "235: 1171.787\n",
      "236: 1170.105\n",
      "237: 1168.425\n",
      "238: 1166.750\n",
      "239: 1165.077\n",
      "240: 1163.408\n",
      "241: 1161.743\n",
      "242: 1160.081\n",
      "243: 1158.422\n",
      "244: 1156.767\n",
      "245: 1155.115\n",
      "246: 1153.467\n",
      "247: 1151.821\n",
      "248: 1150.180\n",
      "249: 1148.541\n",
      "250: 1146.906\n",
      "251: 1145.274\n",
      "252: 1143.646\n",
      "253: 1142.021\n",
      "254: 1140.399\n",
      "255: 1138.780\n",
      "256: 1137.165\n",
      "257: 1135.553\n",
      "258: 1133.945\n",
      "259: 1132.339\n",
      "260: 1130.737\n",
      "261: 1129.138\n",
      "262: 1127.543\n",
      "263: 1125.950\n",
      "264: 1124.361\n",
      "265: 1122.775\n",
      "266: 1121.193\n",
      "267: 1119.613\n",
      "268: 1118.037\n",
      "269: 1116.464\n",
      "270: 1114.894\n",
      "271: 1113.328\n",
      "272: 1111.764\n",
      "273: 1110.204\n",
      "274: 1108.647\n",
      "275: 1107.093\n",
      "276: 1105.542\n",
      "277: 1103.994\n",
      "278: 1102.450\n",
      "279: 1100.908\n",
      "280: 1099.370\n",
      "281: 1097.835\n",
      "282: 1096.303\n",
      "283: 1094.774\n",
      "284: 1093.248\n",
      "285: 1091.725\n",
      "286: 1090.205\n",
      "287: 1088.689\n",
      "288: 1087.175\n",
      "289: 1085.664\n",
      "290: 1084.157\n",
      "291: 1082.652\n",
      "292: 1081.151\n",
      "293: 1079.653\n",
      "294: 1078.157\n",
      "295: 1076.665\n",
      "296: 1075.176\n",
      "297: 1073.689\n",
      "298: 1072.206\n",
      "299: 1070.726\n",
      "300: 1069.248\n",
      "301: 1067.774\n",
      "302: 1066.302\n",
      "303: 1064.834\n",
      "304: 1063.368\n",
      "305: 1061.906\n",
      "306: 1060.446\n",
      "307: 1058.990\n",
      "308: 1057.536\n",
      "309: 1056.085\n",
      "310: 1054.637\n",
      "311: 1053.192\n",
      "312: 1051.750\n",
      "313: 1050.311\n",
      "314: 1048.874\n",
      "315: 1047.441\n",
      "316: 1046.010\n",
      "317: 1044.582\n",
      "318: 1043.158\n",
      "319: 1041.736\n",
      "320: 1040.316\n",
      "321: 1038.900\n",
      "322: 1037.487\n",
      "323: 1036.076\n",
      "324: 1034.668\n",
      "325: 1033.263\n",
      "326: 1031.861\n",
      "327: 1030.461\n",
      "328: 1029.065\n",
      "329: 1027.671\n",
      "330: 1026.280\n",
      "331: 1024.892\n",
      "332: 1023.506\n",
      "333: 1022.123\n",
      "334: 1020.744\n",
      "335: 1019.366\n",
      "336: 1017.992\n",
      "337: 1016.620\n",
      "338: 1015.251\n",
      "339: 1013.885\n",
      "340: 1012.521\n",
      "341: 1011.160\n",
      "342: 1009.802\n",
      "343: 1008.447\n",
      "344: 1007.094\n",
      "345: 1005.744\n",
      "346: 1004.397\n",
      "347: 1003.052\n",
      "348: 1001.710\n",
      "349: 1000.371\n",
      "350: 999.034\n",
      "351: 997.700\n",
      "352: 996.369\n",
      "353: 995.040\n",
      "354: 993.714\n",
      "355: 992.390\n",
      "356: 991.070\n",
      "357: 989.751\n",
      "358: 988.436\n",
      "359: 987.123\n",
      "360: 985.812\n",
      "361: 984.505\n",
      "362: 983.199\n",
      "363: 981.897\n",
      "364: 980.597\n",
      "365: 979.299\n",
      "366: 978.004\n",
      "367: 976.712\n",
      "368: 975.422\n",
      "369: 974.135\n",
      "370: 972.850\n",
      "371: 971.568\n",
      "372: 970.288\n",
      "373: 969.011\n",
      "374: 967.737\n",
      "375: 966.464\n",
      "376: 965.195\n",
      "377: 963.928\n",
      "378: 962.663\n",
      "379: 961.401\n",
      "380: 960.141\n",
      "381: 958.884\n",
      "382: 957.630\n",
      "383: 956.377\n",
      "384: 955.128\n",
      "385: 953.880\n",
      "386: 952.636\n",
      "387: 951.393\n",
      "388: 950.153\n",
      "389: 948.916\n",
      "390: 947.681\n",
      "391: 946.448\n",
      "392: 945.218\n",
      "393: 943.990\n",
      "394: 942.765\n",
      "395: 941.542\n",
      "396: 940.321\n",
      "397: 939.103\n",
      "398: 937.887\n",
      "399: 936.673\n",
      "400: 935.462\n",
      "401: 934.254\n",
      "402: 933.047\n",
      "403: 931.843\n",
      "404: 930.642\n",
      "405: 929.442\n",
      "406: 928.246\n",
      "407: 927.051\n",
      "408: 925.859\n",
      "409: 924.669\n",
      "410: 923.481\n",
      "411: 922.296\n",
      "412: 921.113\n",
      "413: 919.932\n",
      "414: 918.754\n",
      "415: 917.578\n",
      "416: 916.404\n",
      "417: 915.232\n",
      "418: 914.063\n",
      "419: 912.896\n",
      "420: 911.731\n",
      "421: 910.569\n",
      "422: 909.409\n",
      "423: 908.251\n",
      "424: 907.095\n",
      "425: 905.942\n",
      "426: 904.791\n",
      "427: 903.642\n",
      "428: 902.495\n",
      "429: 901.351\n",
      "430: 900.208\n",
      "431: 899.068\n",
      "432: 897.931\n",
      "433: 896.795\n",
      "434: 895.662\n",
      "435: 894.530\n",
      "436: 893.401\n",
      "437: 892.274\n",
      "438: 891.150\n",
      "439: 890.027\n",
      "440: 888.907\n",
      "441: 887.789\n",
      "442: 886.673\n",
      "443: 885.559\n",
      "444: 884.447\n",
      "445: 883.338\n",
      "446: 882.230\n",
      "447: 881.125\n",
      "448: 880.022\n",
      "449: 878.921\n",
      "450: 877.822\n",
      "451: 876.725\n",
      "452: 875.630\n",
      "453: 874.538\n",
      "454: 873.447\n",
      "455: 872.359\n",
      "456: 871.273\n",
      "457: 870.189\n",
      "458: 869.107\n",
      "459: 868.027\n",
      "460: 866.949\n",
      "461: 865.873\n",
      "462: 864.799\n",
      "463: 863.727\n",
      "464: 862.658\n",
      "465: 861.590\n",
      "466: 860.524\n",
      "467: 859.461\n",
      "468: 858.399\n",
      "469: 857.340\n",
      "470: 856.283\n",
      "471: 855.227\n",
      "472: 854.174\n",
      "473: 853.122\n",
      "474: 852.073\n",
      "475: 851.026\n",
      "476: 849.980\n",
      "477: 848.937\n",
      "478: 847.896\n",
      "479: 846.856\n",
      "480: 845.819\n",
      "481: 844.783\n",
      "482: 843.750\n",
      "483: 842.719\n",
      "484: 841.689\n",
      "485: 840.662\n",
      "486: 839.636\n",
      "487: 838.612\n",
      "488: 837.591\n",
      "489: 836.571\n",
      "490: 835.553\n",
      "491: 834.537\n",
      "492: 833.523\n",
      "493: 832.512\n",
      "494: 831.501\n",
      "495: 830.493\n",
      "496: 829.487\n",
      "497: 828.483\n",
      "498: 827.480\n",
      "499: 826.480\n"
     ]
    }
   ],
   "source": [
    "w = np.random.rand(X_train.shape[1])\n",
    "_, history, _ = grad_descent(X_train, y_train, w, 1e-6, 500, 1e-6, False, True)"
   ]
  },
  {
   "cell_type": "code",
   "execution_count": 128,
   "metadata": {},
   "outputs": [
    {
     "name": "stdout",
     "output_type": "stream",
     "text": [
      "Алгоритм не сходится\n",
      "Complete training with random weights init for lr 10\n",
      "Алгоритм не сходится\n",
      "Complete training with zero weights init for lr 10\n",
      "Алгоритм не сходится\n",
      "Complete training with random weights init for lr 1\n",
      "Алгоритм не сходится\n",
      "Complete training with zero weights init for lr 1\n",
      "Алгоритм не сходится\n",
      "Complete training with random weights init for lr 0.001\n",
      "Алгоритм не сходится\n",
      "Complete training with zero weights init for lr 0.001\n"
     ]
    }
   ],
   "source": [
    "hists = []\n",
    "for lr in [10, 1, 0.001]:\n",
    "    w = np.random.rand(X_train.shape[1])\n",
    "    _, history, success = grad_descent(X_train, y_train, w, lr, 50, 1e-10, False, False)\n",
    "    hists.append(('rand', lr, success, history))\n",
    "    print(f'Complete training with random weights init for lr {lr}')\n",
    "    w = np.zeros(X_train.shape[1])\n",
    "    _, history, success = grad_descent(X_train, y_train, w, lr, 50, 1e-10, False, False)\n",
    "    hists.append(('zero', lr, success, history))\n",
    "    print(f'Complete training with zero weights init for lr {lr}')"
   ]
  },
  {
   "cell_type": "code",
   "execution_count": 129,
   "metadata": {},
   "outputs": [
    {
     "name": "stderr",
     "output_type": "stream",
     "text": [
      "No handles with labels found to put in legend.\n"
     ]
    },
    {
     "data": {
      "image/png": "[encoded data removed]",
      "text/plain": [
       "<Figure size 432x288 with 1 Axes>"
      ]
     },
     "metadata": {
      "needs_background": "light"
     },
     "output_type": "display_data"
    }
   ],
   "source": [
    "from matplotlib import pyplot as plt\n",
    "for init_type, lr, success, history in hists:\n",
    "    if success:\n",
    "        plt.plot(np.arange(len(history)), history, label=f'{init_type}_{lr}')\n",
    "plt.legend()\n",
    "plt.grid()\n",
    "\n",
    "plt.show()"
   ]
  },
  {
   "cell_type": "markdown",
   "metadata": {},
   "source": [
    "**Ответ:**\n",
    "\n",
    "Параметры сильно влияют на сходимость и качество. При слишком большом размере шага алгоритм расходится, т.к. ошибка быстро растёт.\n",
    "\n",
    "При размере шага 0.001 алгоритм сходится, причём быстрее это происходит при инициализации весов нулями"
   ]
  },
  {
   "cell_type": "markdown",
   "metadata": {},
   "source": [
    "**22.** Обучите линейную регрессию с функционалом MSPE и его регуляризованным вариантом на обучающей выборке при помощи метода градиентного спуска и изобразите кривые зависимости значения функционала от номера итерации. Исследуйте зависимость скорости сходимости от наличия регуляризации. Обоснуйте, почему так происходит."
   ]
  },
  {
   "cell_type": "code",
   "execution_count": 122,
   "metadata": {},
   "outputs": [
    {
     "name": "stdout",
     "output_type": "stream",
     "text": [
      "0: 84672.404\n",
      "100: 3467.851\n",
      "200: 2450.765\n",
      "300: 1928.513\n",
      "400: 50773.669\n",
      "0: 245816.281\n",
      "Алгоритм не сходится\n"
     ]
    }
   ],
   "source": [
    "w = np.random.rand(X_train.shape[1])\n",
    "_, history_usual, _ = sgd(X_train, y_train, w, 1e-6, 500, 1e-8, False, True)\n",
    "\n",
    "w = np.random.rand(X_train.shape[1])\n",
    "_, history_reg, _ = sgd(X_train, y_train, w, 1e-6, 500, 1e-8, True, True)"
   ]
  },
  {
   "cell_type": "code",
   "execution_count": 125,
   "metadata": {},
   "outputs": [
    {
     "data": {
      "image/png": "[encoded data removed]",
      "text/plain": [
       "<Figure size 432x288 with 1 Axes>"
      ]
     },
     "metadata": {
      "needs_background": "light"
     },
     "output_type": "display_data"
    }
   ],
   "source": [
    "plt.plot(np.arange(len(history_usual)), history_usual, label='Usual')\n",
    "plt.plot(np.arange(len(history_reg)), history_reg, label='Reg')\n",
    "plt.legend()\n",
    "plt.grid()\n",
    "plt.ylim([0, 100000])\n",
    "\n",
    "plt.show()"
   ]
  },
  {
   "cell_type": "markdown",
   "metadata": {},
   "source": [
    "Метод градиентного спуска может быть весьма трудозатратен в случае большого размера обучающей выборки. Поэтому часто используют метод стохастического градиентного спуска, где на каждой итерации выбирается случайный объект из обучающей выборки и обновление весов происходит только по этому объекту. \n",
    "\n",
    "**23.**  Реализуйте метод стохастического градиентного спуска (SGD) для описанных функционалов ($MSPE$ и его регуляризованный вариант). Функция должна иметь параметры и возвращаемое значение, аналогичные оным функции grad\\_descent из п.21. Кроме того, должен использоваться аналогичный критерий останова."
   ]
  },
  {
   "cell_type": "code",
   "execution_count": 57,
   "metadata": {},
   "outputs": [],
   "source": [
    "def sgd(X, y, w0, step_size, max_iter, eps, is_reg, verbose=False):\n",
    "    if is_reg:\n",
    "        f_cost = get_reg_func\n",
    "        f_grad = get_reg_grad\n",
    "    else:\n",
    "        f_cost = get_func\n",
    "        f_grad = get_grad\n",
    "    \n",
    "    w = w0.copy()\n",
    "    history = []\n",
    "    w_prev = None\n",
    "    success = True\n",
    "    idxs = np.arange(len(X))\n",
    "    \n",
    "    non_changed = 0\n",
    "    for i in range(max_iter):\n",
    "        if w_prev is not None and np.linalg.norm(w_prev - w) < eps:\n",
    "            # Кол-во итераций на которых веса не менялись,\n",
    "            # чтобы избежать прекращения обучения при первом же правильном ответе\n",
    "            non_changed += 1\n",
    "        else:\n",
    "            non_changed = 0\n",
    "        if non_changed == 10:\n",
    "            break\n",
    "        \n",
    "        idx = np.random.choice(idxs)\n",
    "        x = X.iloc[idx].to_numpy().reshape(1, -1)\n",
    "        _y = y.iloc[idx]\n",
    "        \n",
    "        \n",
    "        mpse = f_cost(w, X, y)\n",
    "        history.append(mpse)\n",
    "        \n",
    "        mpse_grad = f_grad(w, x, _y)\n",
    "        # обновить веса\n",
    "        w_prev = w.copy()\n",
    "        w = w - step_size * mpse_grad\n",
    "        if verbose and i % 100 == 0:\n",
    "            print(f'{i}: {mpse:.3f}')\n",
    "        \n",
    "        if i > 1 and mpse > 1e9:\n",
    "            print('Алгоритм не сходится')\n",
    "            success = False\n",
    "            break\n",
    "    return w, history, success"
   ]
  },
  {
   "cell_type": "markdown",
   "metadata": {},
   "source": [
    "Обучите линейную регрессию с функционалом $MSPE$ и его регуляризованным вариантом на обучающей выборке при помощи метода стохастического градиентного спуска, подобрав при этом размер шага, при котором метод будет сходиться. Нарисуйте график сходимости. Выведите значения $MSPE, MSE, R^2$ на контрольной выборке."
   ]
  },
  {
   "cell_type": "code",
   "execution_count": 62,
   "metadata": {},
   "outputs": [
    {
     "name": "stdout",
     "output_type": "stream",
     "text": [
      "0: 87284.982\n",
      "100: 24708.987\n",
      "200: 12943.214\n",
      "300: 5884.771\n",
      "400: 2520.431\n",
      "0: 396791.750\n",
      "100: 322974.434\n",
      "200: 268621.020\n",
      "300: 18754.653\n",
      "400: 3828.603\n"
     ]
    }
   ],
   "source": [
    "w = np.random.rand(X_train.shape[1])\n",
    "_, history_usual, _ = sgd(X_train, y_train, w, 1e-8, 500, 1e-10, False, True)\n",
    "\n",
    "w = np.random.rand(X_train.shape[1])\n",
    "_, history_reg, _ = sgd(X_train, y_train, w, 1e-8, 500, 1e-10, True, True)"
   ]
  },
  {
   "cell_type": "code",
   "execution_count": 63,
   "metadata": {},
   "outputs": [
    {
     "data": {
      "image/png": "[encoded data removed]",
      "text/plain": [
       "<Figure size 432x288 with 1 Axes>"
      ]
     },
     "metadata": {
      "needs_background": "light"
     },
     "output_type": "display_data"
    }
   ],
   "source": [
    "plt.plot(np.arange(len(history_usual)), history_usual, label='Usual')\n",
    "plt.plot(np.arange(len(history_reg)), history_reg, label='Reg')\n",
    "plt.legend()\n",
    "plt.grid()\n",
    "\n",
    "plt.show()"
   ]
  },
  {
   "cell_type": "markdown",
   "metadata": {},
   "source": [
    "**24.** Аналогично п.22 исследуйте зависимость скорости сходимости метода SGD от наличия регуляризации. Обоснуйте, почему так происходит."
   ]
  },
  {
   "cell_type": "code",
   "execution_count": 133,
   "metadata": {},
   "outputs": [
    {
     "name": "stdout",
     "output_type": "stream",
     "text": [
      "Test MPSE: 1.0000003738265952\n"
     ]
    }
   ],
   "source": [
    "#print(f'Test MSE: {mean_squared_error(make_pred(w, X_test), y_test)}')\n",
    "print(f'Test MPSE: {get_func(w, X_test, y_test)}')\n",
    "#print(f'Test R2: {r2_score(make_pred(w, X_test), y_test)}')"
   ]
  },
  {
   "cell_type": "markdown",
   "metadata": {},
   "source": [
    "**Ответ:** При использовании регуляризации в случае стохастического градиентного спуска сходимость была быстрее потому что учитывалось влияение весовых коэффициентов"
   ]
  },
  {
   "cell_type": "markdown",
   "metadata": {},
   "source": [
    "**25.** Обучите стандартную линейную регрессию с функционалом качества MSE на обучающей выборке и выведите значение MSPE полученного решения на контрольной выборке. Как оно соотносится с аналогичным результатом для решения, полученного в п.22? Почему?"
   ]
  },
  {
   "cell_type": "code",
   "execution_count": 78,
   "metadata": {},
   "outputs": [
    {
     "name": "stdout",
     "output_type": "stream",
     "text": [
      "MSPE: 2.614566832536598\n"
     ]
    }
   ],
   "source": [
    "lr = LinearRegression()\n",
    "lr.fit(X_train, y_train)\n",
    "\n",
    "mspe = get_func(lr.coef_, X_test, y_test)\n",
    "print(f'MSPE: {mspe}')"
   ]
  },
  {
   "cell_type": "code",
   "execution_count": null,
   "metadata": {},
   "outputs": [],
   "source": []
  },
  {
   "cell_type": "markdown",
   "metadata": {},
   "source": [
    "Значение MPSE значительно больше, чем в п.22, потому что стандартная линейная регрессия минимизирует функционал MSE"
   ]
  }
 ],
 "metadata": {
  "kernelspec": {
   "display_name": "Python 3",
   "language": "python",
   "name": "python3"
  },
  "language_info": {
   "codemirror_mode": {
    "name": "ipython",
    "version": 3
   },
   "file_extension": ".py",
   "mimetype": "text/x-python",
   "name": "python",
   "nbconvert_exporter": "python",
   "pygments_lexer": "ipython3",
   "version": "3.8.5"
  }
 },
 "nbformat": 4,
 "nbformat_minor": 1
}
